{
  "nbformat": 4,
  "nbformat_minor": 0,
  "metadata": {
    "colab": {
      "name": "Optimization.ipynb",
      "provenance": [],
      "authorship_tag": "ABX9TyPVIul1G9X/sqiRfC4QyKYC"
    },
    "kernelspec": {
      "name": "python3",
      "display_name": "Python 3"
    }
  },
  "cells": [
    {
      "cell_type": "markdown",
      "metadata": {
        "id": "exHjvq1sM2RJ",
        "colab_type": "text"
      },
      "source": [
        "# Linalg Review\n",
        "\n",
        "\n",
        "## 1.1 Basics\n",
        "\n",
        "**Python vs. Optimization**:\n",
        "\n",
        "- Optimization: Vectors are always column vectors\n",
        "  - A vector $a\\in R^N$ is a n-tuple $\\begin{bmatrix}a_1, a_2, \\cdots, a_n\\end{bmatrix}$ where $a_i \\in R$\n",
        "  - Note: In python vectors with 2nd row as 1\n",
        "\n",
        "\n",
        "- `Inner Product:`\n",
        "  - $a,b\\in R^N, \\langle a,b\\rangle = \\sum^N_{i=1} = a^Tb=b^Ta = \\langle b,a \\rangle$ \n",
        "\n",
        "- `Euclidean norm:` Induced by inner-product\n",
        "  - $a \\in R^N, \\|a\\|_2 = \\sqrt{\\langle a,a \\rangle}$\n",
        "\n",
        "\n",
        "- `Cauchy-schwarz:` Induced by inner-product\n",
        "  - $|\\langle a,b \\rangle| \\leq \\|a\\|_2 \\|b\\|_2$\n",
        "\n",
        "- `Triangle inequality:`\n",
        "  - $|\\langle a,b \\rangle|_2 \\leq \\|a\\|_2 \\|b\\|_2$\n",
        "\n",
        "## 1.2 Norms\n",
        "\n",
        "### 1.2.1 Definition\n",
        "1. Homogeneity:\n",
        "  - $||\\alpha x||= ||\\alpha| \\ ||x||$, for $x\\in R^N$ and $\\alpha \\in R$\n",
        "2. Subadditivity:\n",
        "  - $||x+y||\\leq ||x|| + ||y||$, for $x,y\\in R^N$\n",
        "\n",
        "3. Separability:\n",
        "  - If and only if $||x||=0 \\Rightarrow x=0$\n",
        "\n",
        "- $||x||_2$\n",
        "- $||x||_1$\n",
        "- $\\sqrt{x^T Ax} \\rightarrow$ Postive definite \n",
        "\n",
        "Not Norms:\n",
        "- $||x||_0 \\rightarrow$ not homogenous \n",
        "- $||\\nabla x||_2 \\rightarrow$ not seperable\n",
        "\n",
        "### 1.2.2 \n"
      ]
    },
    {
      "cell_type": "markdown",
      "metadata": {
        "id": "kjHFbRbxQQyc",
        "colab_type": "text"
      },
      "source": [
        ""
      ]
    },
    {
      "cell_type": "code",
      "metadata": {
        "id": "JBOEUEb8M09a",
        "colab_type": "code",
        "colab": {}
      },
      "source": [
        ""
      ],
      "execution_count": 0,
      "outputs": []
    }
  ]
}