{
 "cells": [
  {
   "cell_type": "code",
   "execution_count": 5,
   "metadata": {},
   "outputs": [],
   "source": [
    "import seaborn as sns\n",
    "import matplotlib.pyplot as plt\n",
    "import numpy as np\n",
    "import math\n",
    "import pandas as pd\n",
    "from sympy import symbols, diff, solve, var\n",
    "import scipy.stats as ss"
   ]
  },
  {
   "cell_type": "markdown",
   "metadata": {},
   "source": [
    "# Contents\n",
    "\n",
    "[1. Probability basics](#1.-Probability-basics)\n",
    "\n",
    "[2. Probability distributions](#2.-Probability-distributions)\n",
    "\n",
    "[3. Statistics](#3.-Statistics)\n",
    "\n",
    "[4. Maximum Likelihood](#4.-Maximum-Likelihood)\n",
    "\n",
    "[5. Baye's theorem](#5.-Baye's-theorem)\n",
    "   "
   ]
  },
  {
   "cell_type": "markdown",
   "metadata": {},
   "source": [
    "# References\n",
    "\n",
    "- Downey, Allen B. [\"Think Bayes: Bayesian Statistics in Python.\"](https://www.amazon.com/Think-Bayes-Bayesian-Statistics-Python-ebook-dp-B00F5BS96Q/dp/B00F5BS96Q/ref=mt_kindle?_encoding=UTF8&me=&qid=) *Green Tea Press*\n",
    "\n",
    "\n",
    "- Hamilton, J. D. [\"Time series analysis.\"](https://www.amazon.com/Time-Analysis-James-Douglas-Hamilton/dp/0691042896) *Princeton University.*\n",
    "\n",
    "\n",
    "- Knudson, Christina. [Maximum Likelihood Estimation](https://www.youtube.com/playlist?list=PLdxWrq0zBgPXWD7_sc7uf8BdirORFRA2-)\n",
    "\n",
    "\n",
    "- Lambert, Ben. [A Student's Guide to Bayesian Statistics](https://www.youtube.com/playlist?list=PLwJRxp3blEvZ8AKMXOy0fc0cqT61GsKCG)\n",
    "\n",
    "\n",
    "- Rozanov, Y. A. (1977). [Probability theory: a concise course.](https://www.amazon.com/Probability-Theory-Concise-Course-Mathematics/dp/0486635449) New York: Dover.\n",
    "\n",
    "\n",
    "- Shanker, Tushar. Statistical simulation in python. [Datacamp](https://www.datacamp.com/courses/statistical-simulation-in-python)\n",
    "\n",
    "\n",
    "- Tseng, Francis [AI Notes](https://frnsys.com/ai_notes/foundations/probability.html)\n"
   ]
  },
  {
   "cell_type": "markdown",
   "metadata": {},
   "source": [
    "# 1. Probability basics"
   ]
  },
  {
   "cell_type": "markdown",
   "metadata": {},
   "source": [
    "## 1.1 Probability space \n",
    "\n",
    "Defined by triple $(\\Omega, \\mathcal F, P)$ where:\n",
    "\n",
    "1. $\\Omega$ is the space of possible outcomes.\n",
    "\n",
    "2. $\\mathcal F \\subseteq 2^{\\Omega}$ where $2^{\\Omega}$ is the power set of $\\Omega$ \n",
    "\n",
    "    - i.e. the set of all subsets of $\\Omega$, including the empty set $\\emptyset$ and $\\Omega$ itself, the latter of which is called the trivial event), is the space of measurable events or the event space.\n",
    "\n",
    "3. $P$ is the probability measure. \n",
    "    - i.e. the probability distribution, that maps an event $E \\in \\mathcal F$ to a real value between 0 and 1 (that is, $P$ is a function that outputs a probability for the input event).\n",
    "    \n",
    "\n",
    "### 1.1.2 Example: Probability space\n",
    "\n",
    "Six sided dice, we want to find out whether or not the dice roll is odd or even.\n",
    "\n",
    "- Space of possible outcomes $\\Omega = {1,2,3,4,5,6}$. \n",
    "\n",
    " - Event space is $\\mathcal F = \\{\\emptyset, {1,3,5}, {2,4,6}, \\Omega\\}$."
   ]
  },
  {
   "cell_type": "markdown",
   "metadata": {},
   "source": [
    "## 1.2 Random variables\n",
    "\n",
    "- A random variable can also be referred to as a stochastic variable\n",
    "- It is a function that maps outcomes to real values"
   ]
  },
  {
   "cell_type": "markdown",
   "metadata": {},
   "source": [
    "### 1.2.1 Discrete random variables\n",
    "\n",
    "$$P_\\xi(x)=P\\{\\xi=x\\},\\\\\n",
    "\\sum^\\infty_{-\\infty}p_\\xi(x)=1$$\n",
    "\n",
    "### 1.2.1 Continuous random variables\n",
    "$$\\int^\\infty_{-\\infty}p_\\xi(x)dx=1$$\n"
   ]
  },
  {
   "cell_type": "markdown",
   "metadata": {},
   "source": [
    "### 1.2.1 Python example: Generating random variables\n"
   ]
  },
  {
   "cell_type": "code",
   "execution_count": 58,
   "metadata": {},
   "outputs": [
    {
     "name": "stdout",
     "output_type": "stream",
     "text": [
      "[4.17022005e-01 7.20324493e-01 1.14374817e-04]\n",
      "[-0.80217284 -0.44887781]\n",
      "[-2.21187015]\n"
     ]
    }
   ],
   "source": [
    "# Seed reproduces same \"random results on all computers\n",
    "np.random.seed(1) \n",
    "#Uniform random numbers\n",
    "print(np.random.rand(3))\n",
    "#Uniform random numbers in standard normal distribution\n",
    "print(np.random.randn(2))\n",
    "# Draw sample from uniform distribution\n",
    "print(np.random.normal(loc=0, scale=2, size=1))"
   ]
  },
  {
   "cell_type": "markdown",
   "metadata": {},
   "source": [
    "## 1.3 Joint probability\n",
    "\n",
    "- Joint probability: the probability of both $a$ and $b$ occurring.\n",
    "    $$P(a \\cap b) = P(a \\land b) = P(a, b) = P(a) P(b|a)$$ \n",
    " \n",
    "- Disjoint probability: the probability of $a$ or $b$ occurring.\n",
    "    $$P(a \\cup b) = P(a \\lor b) = P(a) + P(b) - P(a, b)$$ \n",
    "    \n",
    "    \n",
    "- Conditional Probability: The conditional probability is the probability of $A$ given $B$, notated $P(A|B)$.\n",
    "    $$ P(A|B) = \\frac{P(A \\cap B)}{P(B)} $$\n",
    "\n",
    "*Reference: 1.1-1.3: ([Francis Tseng](https://frnsys.com/ai_notes/foundations/probability.html)*)\n"
   ]
  },
  {
   "cell_type": "markdown",
   "metadata": {},
   "source": [
    "### 1.3.1. Example: Conditional probability \n",
    "\n",
    "\n",
    "\n",
    "- P(cancer) = 1/100\n",
    "- P(No-cancer) = 99/100\n",
    "- P(Positive test|Cancer) = 90/100\n",
    "- P(Positive test|No-cancer) =  8/100\n",
    "\n",
    "#### What is the probability that an individual has cancer given they tested postive.\n",
    "- P(Cancer|Positive test) = $\\frac{P(C,T)}{P(T)}$\n",
    "\n",
    "$$\\frac{P(C,T)}{P(T)}=\\frac{P(T|C)\\times P(C)}{P(T)}=\\\\ \n",
    "\\frac{P(T|C)\\times P(C)}{P(C,T)+P(NC, T)}=\\frac{P(T|C)\\times P(C)}{P(C,T)+P(T|NC)}\\\\\n",
    "=\\frac{P(T|C)\\times P(C)}{P(C,T)+(P(T|NC)\\times P(NC)}\\\\\n",
    "\\frac{90/100*1/100}{9/1000+792/10000}\\\\\n",
    "=\\frac{9/1000}{882/10000}\\\\\n",
    "=.1=10 \\text{percent}$$\n",
    "\n",
    "\n",
    "\n",
    "*Reference: Lambert, Ben*\n"
   ]
  },
  {
   "cell_type": "markdown",
   "metadata": {},
   "source": [
    "### 1.3.2. Python example: Conditional probability\n",
    "\n",
    "- 7 white and 6 black balls. \n",
    "- 4 balls are drawn at random.\n",
    "\n",
    "Question: What is the prob Probability: 1st & 3rd white, 2nd & 4th black.\n",
    "\n",
    "*Reference: Lambert, Ben*\n"
   ]
  },
  {
   "cell_type": "code",
   "execution_count": 42,
   "metadata": {},
   "outputs": [
    {
     "name": "stdout",
     "output_type": "stream",
     "text": [
      "Probability of success = 0.072\n"
     ]
    }
   ],
   "source": [
    "# Initialize success, sims and urn\n",
    "np.random.seed(1)\n",
    "success, sims = 0, 500\n",
    "urn = ['w']*7 + ['b']*6\n",
    "\n",
    "for _ in range(sims):\n",
    "    # Draw 4 balls without replacement\n",
    "    draw = np.random.choice(urn, replace=False, size=4)\n",
    "    # Count the number of successes\n",
    "    if (draw[0] == 'w') & (draw[1] == 'b') & (draw[2] == 'w') & (draw[3] == 'b'):\n",
    "        success +=1\n",
    "\n",
    "print(\"Probability of success = {}\".format(success/sims))"
   ]
  },
  {
   "cell_type": "markdown",
   "metadata": {},
   "source": [
    "### 1.3.3 Python example: Gambler's ruin\n",
    "\n",
    "- Consider a coin toss game where you guess the outcome and win 1 dollar if you are correct.\n",
    "- Suppose you have $\\underline{x}$ dollars and will play the game until you win $\\underline{m}$ dollars, or until you are broke.\n",
    "\n",
    "Question: What is the probability you will lose all your money?\n",
    "\n",
    "\n",
    "*Reference: Rozanov, Y. A. (1977).*\n",
    "\n"
   ]
  },
  {
   "cell_type": "code",
   "execution_count": 488,
   "metadata": {},
   "outputs": [
    {
     "name": "stdout",
     "output_type": "stream",
     "text": [
      "Analytical prob of ruin: 0.25\n",
      "\n",
      "Simulated wins: 70, ruins: 30\n",
      "Simulated prob of ruin: 0.3\n"
     ]
    }
   ],
   "source": [
    "win = 0\n",
    "ruin= 0\n",
    "sims = 100\n",
    "m=20 #Gambler intends to play the game until m earnings\n",
    "x= 15#Starting amount\n",
    "print('Analytical prob of ruin: {}'.format(1-(x/m)))\n",
    "for _ in range(sims):\n",
    "    x = 15\n",
    "    while x>0:\n",
    "        x += np.random.choice([-1,1])\n",
    "        #print(x)\n",
    "        if x==m:  \n",
    "            win+=1\n",
    "            break\n",
    "        if x == 0:\n",
    "            ruin+=1\n",
    "            break\n",
    "    #print(f'win:{win}')\n",
    "    #print(f'ruin:{ruin}')  \n",
    "print('')\n",
    "print('Simulated wins: {}, ruins: {}'.format(win,ruin))    \n",
    "print('Simulated prob of ruin: {}'.format(ruin/sims))"
   ]
  },
  {
   "cell_type": "markdown",
   "metadata": {},
   "source": [
    "## 1.4 Independence\n",
    "- If two events A1 and A2 are indepdent, then, the occurance of A2 should have no influence on the probability of occurence of A1\n",
    "\n",
    "Events $X$ and $Y$ are independent if:\n",
    "\n",
    "$$P(X \\cap Y) = P(X)P(Y)$$\n",
    "\n",
    "This can also be written:\n",
    "\n",
    "$$P(X|Y) = P(X)$$\n",
    "\n",
    "- The notation for the independence of $X$ and $Y$ is $X \\perp Y$.\n",
    "\n",
    "We can infer that:\n",
    "\n",
    "$$ P(X,Y) = P(X)P(Y) $$\n",
    "\n",
    "- Events $A_1, \\dots, A_n$ are mutually independent if $P(\\bigcap_{i \\in S} A_i) = \\prod_{i \\in S} P(A_i)$ for any $S \\subset {1, \\dots, n}$.\n",
    "    - The joint probability of any subset of these events is just equal to the product of their individual probabilities.\n",
    "\n",
    "- Mutual independence implies pairwise independence,but the converse is not necessarily true.\n",
    "\n",
    "*Reference: ([Francis Tseng](https://frnsys.com/ai_notes/foundations/probability.html)*)"
   ]
  },
  {
   "cell_type": "markdown",
   "metadata": {},
   "source": [
    "### 1.4.1 Example: Independence\n",
    "\n",
    "**Example 1.** \n",
    "From 52 card deck:\n",
    "- p(A1): spade = 1/4\n",
    "- p(A2): queen = 1/13\n",
    "\n",
    "$$P(A1,A2)= \\frac{1}{52}$$\n",
    "\n",
    "**Example 2.**\n",
    "Throw two dice:\n",
    "- A1: 1st die is odd\n",
    "- A2: 2nd die is odd\n",
    "- A3: The total of 1st & 2nd die is odd\n",
    "\n",
    "- A1 and A2 are obviously indpendent each with p=1/2\n",
    "\n",
    "$$P(A_3|A_1)= 1/2\\\\\n",
    "P(A_3|A_2)= 1/2\\\\\n",
    "P(A_3|A_1)= P(A_3), \\ \\ P(A_3|A_2)= P(A_3)$$\n"
   ]
  },
  {
   "cell_type": "markdown",
   "metadata": {},
   "source": [
    "### 1.4.2 Python example: Independence\n",
    "*Reference: Rozanov, Y. A. (1977).*\n",
    "\n",
    "\n",
    "- 1 urns contains only white\n",
    "- 1 urn contains 30 white, 10 black\n",
    "- A white ball is drawn\n",
    "\n",
    "Question: What is the prob. that another ball drawn from the urn will be black?"
   ]
  },
  {
   "cell_type": "code",
   "execution_count": 489,
   "metadata": {},
   "outputs": [
    {
     "name": "stdout",
     "output_type": "stream",
     "text": [
      "Simulated success rate: 0.132\n",
      "Analytical soluition: 0.107\n"
     ]
    }
   ],
   "source": [
    "# Initialize success, sims and urn\n",
    "success,sims = 0, 1000\n",
    "urn1 = ['w']*30 + ['b']*10\n",
    "urn2 = ['w']*1\n",
    "urns = ['urn1', 'urn2']\n",
    "\n",
    "\n",
    "for _ in range(sims):\n",
    "    draw = np.random.choice(urns)\n",
    "    if draw=='urn1':\n",
    "        urn1_draw = np.random.choice(urn1)\n",
    "        if urn1_draw == 'b':\n",
    "            success+=1\n",
    "print('Simulated success rate: {}'.format(success/sims))\n",
    "print('Analytical soluition: {:.3f}'.format(3/28))\n",
    "        \n",
    "      "
   ]
  },
  {
   "cell_type": "markdown",
   "metadata": {},
   "source": [
    "## 1.5 Conditional Independence:\n",
    "\n",
    "$$ P(X|Y,Z) = P(X|Z)$$\n",
    "\n",
    "- If $X$ is independent of $Y$ conditioned on $Z$. \n",
    "    - In other words $X$ is independent of $Y$ if $Z$ is true or known.\n",
    "\n",
    "We then can infer:\n",
    "\n",
    "$$ P(X,Y|Z) = P(X|Z)P(Y|Z) $$\n",
    "\n",
    "- Mutual independence does not imply conditional independence.\n",
    "\n",
    "- $A_1, \\dots, A_n$ are conditionally independent given $C$ if $P(\\bigcap_{i \\in S} A_i | C) = \\prod_{i \\in S} P(A_i | C)$ for any $S \\subset {1, \\dots, n}$.\n",
    "\n",
    "*Reference: ([Francis Tseng](https://frnsys.com/ai_notes/foundations/probability.html)*)"
   ]
  },
  {
   "cell_type": "markdown",
   "metadata": {},
   "source": [
    "## 1.6 Combinations and permutations\n",
    "\n",
    "### 1.6.1 Permutations (Order matters)\n",
    "Permutation notation:\n",
    "$$ xP_{y}= P_y^x = P(x,y)$$\n",
    "\n",
    "Generalized formula:\n",
    "$$nP_k = \\frac{n!}{(n-k)!}$$\n",
    "\n",
    "\n",
    "*Reference: ([Francis Tseng](https://frnsys.com/ai_notes/foundations/probability.html)*)"
   ]
  },
  {
   "cell_type": "markdown",
   "metadata": {},
   "source": [
    "#### 1.6.1.1 Python example: permutation \n",
    "\n",
    "Question: How many different ways can you arrange the set ABCD?\n",
    "\n"
   ]
  },
  {
   "cell_type": "code",
   "execution_count": 34,
   "metadata": {},
   "outputs": [
    {
     "data": {
      "text/plain": [
       "24.0"
      ]
     },
     "execution_count": 34,
     "metadata": {},
     "output_type": "execute_result"
    }
   ],
   "source": [
    "permutation = lambda n,k: (math.factorial(n))/math.factorial(n-k)\n",
    "permutation(4,4)"
   ]
  },
  {
   "cell_type": "markdown",
   "metadata": {},
   "source": [
    "#### 1.6.1.2 Python example: permutation\n",
    "\n",
    "Question: If 10 horses run a race how many ways can they finish 1st, 2nd, 3rd"
   ]
  },
  {
   "cell_type": "code",
   "execution_count": 37,
   "metadata": {},
   "outputs": [
    {
     "data": {
      "text/plain": [
       "720.0"
      ]
     },
     "execution_count": 37,
     "metadata": {},
     "output_type": "execute_result"
    }
   ],
   "source": [
    "permutation(10,3)"
   ]
  },
  {
   "cell_type": "markdown",
   "metadata": {},
   "source": [
    "### 1.6.2 Combinations (Order doesn't matter)\n",
    "- (Sampling without replacement)\n",
    "Combination notation:\n",
    "$$nC_k = \\frac{{}_nP_k}{k!}$$\n",
    "Generalized formula:\n",
    "$$nC_k = \\frac{n!}{k!(n-k)!} = {n \\choose k} \\tag{1.6.2}$$\n",
    "\n",
    "- 1.6.2 is called the binomial coefficient\n"
   ]
  },
  {
   "cell_type": "markdown",
   "metadata": {},
   "source": [
    "#### 1.6.1.1 Python example: Combination\n",
    "\n",
    "Question 1: How many time can you select 2 letters from the set ABCD?\n",
    "\n",
    "\n",
    "Question 2: How many unique poker hands can be dealt? \n"
   ]
  },
  {
   "cell_type": "code",
   "execution_count": 30,
   "metadata": {},
   "outputs": [
    {
     "name": "stdout",
     "output_type": "stream",
     "text": [
      "Question 1: 6\n",
      "Question 2: 2598960\n"
     ]
    }
   ],
   "source": [
    "combination = lambda n,k: (math.factorial(n))/(math.factorial(k)*math.factorial(n-k))\n",
    "print('Question 1: {:.0f}'.format(combination(4,2)))\n",
    "print('Question 2: {:.0f}'.format(combination(52,5)))"
   ]
  },
  {
   "cell_type": "markdown",
   "metadata": {},
   "source": [
    "#### 1.6.2.2 Python example: combinations \n",
    "\n",
    "\n",
    "- Of 100 items, 10 are checked by inspector.\n",
    "- If none of the 10 is defective the bath is accpeted.\n",
    "\n",
    "#### Question: What is the prob that a batch containing 10 defective items will be **accepted**?\n",
    "\n",
    "*Reference: Rozanov, Y. A. (1977).*\n"
   ]
  },
  {
   "cell_type": "code",
   "execution_count": 25,
   "metadata": {},
   "outputs": [
    {
     "data": {
      "text/plain": [
       "0.33"
      ]
     },
     "execution_count": 25,
     "metadata": {},
     "output_type": "execute_result"
    }
   ],
   "source": [
    "import scipy.special \n",
    "# Built in combination method scipy.special.binom(n, k)\n",
    "# We can also use created function in 1.6.1.1, combination(n,k)\n",
    "n,k = [100,10]\n",
    "denom = scipy.special.binom(n, k)\n",
    "n,k = [90,10]\n",
    "num = scipy.special.binom(n, k)\n",
    "round(num/denom,3)"
   ]
  },
  {
   "cell_type": "markdown",
   "metadata": {},
   "source": [
    "#### 1.6.2.3 Python example: combinations \n",
    "\n",
    "\n",
    "Question: What is the prob that two cars picked at random from a full deck are both aces?\n",
    "\n",
    "*Reference: Rozanov, Y. A. (1977).*\n"
   ]
  },
  {
   "cell_type": "code",
   "execution_count": 31,
   "metadata": {},
   "outputs": [
    {
     "data": {
      "text/plain": [
       "0.005"
      ]
     },
     "execution_count": 31,
     "metadata": {},
     "output_type": "execute_result"
    }
   ],
   "source": [
    "n,k = [52,2]\n",
    "denom = scipy.special.binom(n, k)\n",
    "n,k = [4,2]\n",
    "num = scipy.special.binom(n, k)\n",
    "round(num/denom,3)"
   ]
  },
  {
   "cell_type": "markdown",
   "metadata": {},
   "source": [
    "#### 1.6.2.4 Python example: combinations \n",
    "\n",
    "- Of 100 items, 5 are checked by inspector.\n",
    "- If none of the 5 is defective the bath is accpeted.\n",
    "\n",
    "#### Question: What is the prob that a batch containing 5 defective items will be **rejected**?\n",
    "\n",
    "*Reference: Rozanov, Y. A. (1977).*\n"
   ]
  },
  {
   "cell_type": "code",
   "execution_count": 32,
   "metadata": {},
   "outputs": [
    {
     "data": {
      "text/plain": [
       "0.23"
      ]
     },
     "execution_count": 32,
     "metadata": {},
     "output_type": "execute_result"
    }
   ],
   "source": [
    "n,k = [100,5]\n",
    "denom = scipy.special.binom(n, k)\n",
    "n,k = [95,5]\n",
    "num = scipy.special.binom(n, k)\n",
    "round(1-num/denom,3)"
   ]
  },
  {
   "cell_type": "markdown",
   "metadata": {},
   "source": [
    "#### 1.6.2.5 Python example: combinations \n",
    "\n",
    "- How many people do you need in a room to ensure at least a 50% chance that two of them share the same birthday?\n",
    "\n",
    "- With 366 people in a 365-day year, we are 100% sure that at least two have the same birthday, but we only need to be 50% sure. \n",
    "\n",
    "Reference: *Reference: Shanker, Tushar. Statistical simulation in python. Datacamp*"
   ]
  },
  {
   "cell_type": "code",
   "execution_count": 33,
   "metadata": {},
   "outputs": [
    {
     "name": "stdout",
     "output_type": "stream",
     "text": [
      "With 24 people, there's a 50% chance that two share a birthday.\n"
     ]
    }
   ],
   "source": [
    "# Draw a sample of birthdays & check if each birthday is unique\n",
    "days = np.arange(1,366)\n",
    "people = 2\n",
    "\n",
    "def birthday_sim(people):\n",
    "    sims, unique_birthdays = 2000, 0\n",
    "    for _ in range(sims):\n",
    "        draw = np.random.choice(days, size=people, replace=True)\n",
    "        if len(draw)==len(set(draw)):\n",
    "            unique_birthdays += 1\n",
    "    out = 1-unique_birthdays/sims\n",
    "    return out\n",
    "\n",
    "# Break out of the loop if probability greater than 0.5\n",
    "while (people > 0):\n",
    "    prop_bds = birthday_sim(people)\n",
    "    if prop_bds > 0.5: \n",
    "        break\n",
    "    people += 1\n",
    "\n",
    "print(\"With {} people, there's a 50% chance that two share a birthday.\".format(people))"
   ]
  },
  {
   "cell_type": "markdown",
   "metadata": {},
   "source": [
    "# 2. Probability distributions\n",
    "\n",
    "Probability distributions depend on whether the random variable is either **discrete** or **continuous**\n",
    "\n",
    "Distributions can be described by a set of specific parameters\n",
    "   - e.g. Normal distribution is deteremined by $\\mu, \\sigma$\n",
    "\n",
    "There are broadley two types of probability distributions\n",
    "1. Probability **mass** functions: for discrete variables\n",
    "2. Probability **density** functions: for continuous variables"
   ]
  },
  {
   "cell_type": "markdown",
   "metadata": {},
   "source": [
    "## 2.1 Discrete probability distributions:\n",
    "- 2.1.1 Bernoulli distribution\n",
    "- 2.1.2 Binomial distribution\n",
    "- 2.1.3 Poisson distribution\n",
    "- 2.1.4 Geometric distribution\n",
    "- 2.1.5 Negative binomial distribution\n"
   ]
  },
  {
   "cell_type": "markdown",
   "metadata": {},
   "source": [
    "###  2.1.1 Binomial distribution\n",
    "Two mutually exclusive outcomes often referred to as success or failure of n trials.\n",
    "\n",
    "The binomial distribution is expressed as:\n",
    "\n",
    "$$P(\\sum x_i=k)=\\Big(\\frac{n}{k}\\Big)\\theta^k(1-\\theta)^{n-k}\\\\\n",
    "\\text{Where:}\\Big(\\frac{n}{k}\\Big) = \\frac{N!}{K!(N-K)!}\\\\\n",
    "\\mu=np\\\\\n",
    "\\sigma=\\sqrt{np(1-p)}$$\n",
    "\n",
    "- $\\theta$ = probability of success of individual trial\n",
    "    - This is the same across all trials\n",
    "- n = # of trials\n",
    "- k = successes\n",
    "\n",
    "**Note: In the case that n=1 then we have a Bernoulli distribution**\n",
    "\n",
    "Binomial examples include:\n",
    "-  How many times will a coin land on heads in 20 tosses?\n",
    "- How many children born in the U.S. this year will be boys?"
   ]
  },
  {
   "cell_type": "markdown",
   "metadata": {},
   "source": [
    "#### 2.1.1.1 Python Example: binomial distribution\n",
    "\n",
    "- What is the probability we toss two heads in three trials?\n",
    "- $P(\\sum x_i=2)$"
   ]
  },
  {
   "cell_type": "code",
   "execution_count": 12,
   "metadata": {},
   "outputs": [],
   "source": [
    "from sympy import init_printing\n",
    "init_printing()"
   ]
  },
  {
   "cell_type": "code",
   "execution_count": 26,
   "metadata": {
    "scrolled": true
   },
   "outputs": [
    {
     "name": "stdout",
     "output_type": "stream",
     "text": [
      "What is the prob that a sum=2 throwing three times?\n"
     ]
    },
    {
     "data": {
      "image/png": "[encoded data removed]",
      "text/latex": [
       "$$θ^{2} \\left(- θ + 1\\right)$$"
      ],
      "text/plain": [
       " 2         \n",
       "θ ⋅(-θ + 1)"
      ]
     },
     "metadata": {},
     "output_type": "display_data"
    },
    {
     "data": {
      "image/png": "[encoded data removed]",
      "text/latex": [
       "$$0.125$$"
      ],
      "text/plain": [
       "0.125000000000000"
      ]
     },
     "execution_count": 26,
     "metadata": {},
     "output_type": "execute_result"
    }
   ],
   "source": [
    "k, θ, n = var('k,θ,n', real=True)\n",
    "def binomial(ns,ks):\n",
    "    #fact in lambda form: lambda n,k: (math.factorial(n))/math.factorial(math.factorial(k)*(n-k))\n",
    "    fact = (math.factorial(ns))/math.factorial(math.factorial(ks)*(ns-ks))\n",
    "    expr = θ**k*(1-θ)**(n-k)\n",
    "    output = expr.subs({k:ks, n:ns})\n",
    "    display(output)\n",
    "print('What is the prob that a sum=2 throwing three times?')\n",
    "binomial(3,2)\n",
    "exp = θ**2*(-θ+1)\n",
    "exp.subs({θ:.5})"
   ]
  },
  {
   "cell_type": "markdown",
   "metadata": {},
   "source": [
    "#### 2.1.1.2 Python Example: binomial distribution\n",
    "- What is the probability of getting 20 heads from a fair coin after 30 coin flips\n"
   ]
  },
  {
   "cell_type": "code",
   "execution_count": 52,
   "metadata": {},
   "outputs": [
    {
     "name": "stdout",
     "output_type": "stream",
     "text": [
      "Prob of 20 heads in 30 tosses: 0.021\n"
     ]
    }
   ],
   "source": [
    "heads, trials, prob = [20,30,.5]\n",
    "solu = ss.binom.sf(k=heads, n=trials, p=prob)\n",
    "print('Prob of 20 heads in 30 tosses: {}'.format(round(solu,3)))"
   ]
  },
  {
   "cell_type": "markdown",
   "metadata": {},
   "source": [
    "#### 2.1.1.3 Python Example: binomial distribution PDF"
   ]
  },
  {
   "cell_type": "code",
   "execution_count": 92,
   "metadata": {},
   "outputs": [
    {
     "data": {
      "image/png": "[encoded data removed]",
      "text/plain": [
       "<Figure size 432x288 with 1 Axes>"
      ]
     },
     "metadata": {
      "needs_background": "light"
     },
     "output_type": "display_data"
    }
   ],
   "source": [
    "def binomial(n,m,p):\n",
    "    comb = math.factorial(m) / (math.factorial(n) * math.factorial(m-n))\n",
    "    prob = comb * p ** n * (1 - p) ** (m - n)\n",
    "    return prob\n",
    "p = 0.5                                 \n",
    "for N in [50,100]:\n",
    "    x = np.arange(N)                                      \n",
    "    y = np.zeros(N) \n",
    "    for i in range(N):\n",
    "        y[i]=binomial(i,N,p)                            \n",
    "    plt.plot(x, y, lw=4, label='p=.5, n='+str(N)) \n",
    "    plt.legend()\n",
    "    plt.title('50 vs. 100 coin tosses')"
   ]
  },
  {
   "cell_type": "markdown",
   "metadata": {},
   "source": [
    "### 2.1.2 Bernoulli distribution\n",
    "\n",
    "The bernoulli distribution is expressed as:\n",
    "\n",
    "$$P(x=k)=\\theta^k(1-\\theta)^{1-k}$$\n",
    "\n",
    "\n",
    "Bernoulli random variables with the same proability can be converted to the binomial distribution."
   ]
  },
  {
   "cell_type": "code",
   "execution_count": 15,
   "metadata": {
    "scrolled": true
   },
   "outputs": [
    {
     "data": {
      "image/png": "[encoded data removed]",
      "text/latex": [
       "$$θ^{k} \\left(- θ + 1\\right)^{- k + 1}$$"
      ],
      "text/plain": [
       " k         -k + 1\n",
       "θ ⋅(-θ + 1)      "
      ]
     },
     "execution_count": 15,
     "metadata": {},
     "output_type": "execute_result"
    }
   ],
   "source": [
    "expr = θ**k*(1-θ)**(1-k)\n",
    "expr"
   ]
  },
  {
   "cell_type": "code",
   "execution_count": 16,
   "metadata": {},
   "outputs": [
    {
     "name": "stdout",
     "output_type": "stream",
     "text": [
      "K=0: -θ + 1\n",
      "K=1: θ\n"
     ]
    }
   ],
   "source": [
    "for i in [0,1]:\n",
    "    print('K='+str(i)+': {}'.format(expr.subs({k:i})))"
   ]
  },
  {
   "cell_type": "markdown",
   "metadata": {},
   "source": [
    "#### 2.1.2.1 Python example: Bernoulli distribution\n",
    "\n",
    "- Flip coin three times: \n",
    "\n",
    "- What is the probability of the following $p(x_1=1,x_2=1,x_3=0)$?"
   ]
  },
  {
   "cell_type": "code",
   "execution_count": 17,
   "metadata": {},
   "outputs": [
    {
     "data": {
      "image/png": "[encoded data removed]",
      "text/latex": [
       "$$θ^{2} \\left(- θ + 1\\right)$$"
      ],
      "text/plain": [
       " 2         \n",
       "θ ⋅(-θ + 1)"
      ]
     },
     "execution_count": 17,
     "metadata": {},
     "output_type": "execute_result"
    }
   ],
   "source": [
    "expr.subs({k:1})*expr.subs({k:1})*expr.subs({k:0})"
   ]
  },
  {
   "cell_type": "code",
   "execution_count": 19,
   "metadata": {},
   "outputs": [
    {
     "data": {
      "image/png": "[encoded data removed]",
      "text/latex": [
       "$$0.125$$"
      ],
      "text/plain": [
       "0.125000000000000"
      ]
     },
     "execution_count": 19,
     "metadata": {},
     "output_type": "execute_result"
    }
   ],
   "source": [
    "(expr.subs({k:1})*expr.subs({k:1})*expr.subs({k:0})).subs({θ:.5})"
   ]
  },
  {
   "cell_type": "markdown",
   "metadata": {},
   "source": [
    "### 2.1.3 Poisson distribution\n",
    "\n",
    "- Measures the count of the events that occur at a rate that is uniformly random in either time or space\n",
    "- Events must be independent\n",
    "- Continuous version of Bernoulli process\n",
    "- In many real systems the probability of an event changes over time, but poisson can often be a reasonable approximation\n",
    "\n",
    "The Poisson distribution is expressed as:\n",
    "\n",
    "$$ P(Y|\\lambda) = \\frac{\\lambda^y e^{-\\lambda}}{y!}, k = 0,1,2, \\dots $$\n",
    "\n",
    "Summing all potential values of y:\n",
    "\n",
    "$$\\sum_y \\frac{\\lambda^y e^-\\lambda}{y!}= e^{-\\lambda} \\Big[1+\\lambda+\\frac{\\lambda^2}{2!}+\\frac{\\lambda^k}{k!}\\Big]=e^{-\\lambda}\\times e^{\\lambda}=1$$\n",
    "\n",
    "$Var[y]=\\lambda$\n",
    "\n",
    "- The poisson is only appropriate when the mean and variance are similar\n",
    "- If the variance is greater than the mean it might be better to use the negative binomial distribution\n",
    "\n",
    "##### Circumstances when you can approximate binomial via poisson:\n",
    "\n",
    "- x- Binomial(n,p)\n",
    "    - $P(x=K)= \\Big(\\frac{n}{k}\\Big)p^k(1-p)^{n-k}$\n",
    "\n",
    "- The problem with binomial is that when we have large values of N relative to K, the term is difficult to calculate.\n",
    "    - In this case we can use the poisson\n",
    "        - If N is large\n",
    "        - If P is small\n",
    "        - X $\\approx p_0(\\lambda=N_p)$ \n",
    "\n",
    "##### Poisson example: events taking place uniformly over time:\n",
    "\n",
    "- Births per hour on a given day in a given hospital\n",
    "- Number of children born in the U.S. this year\n",
    "- Customers arriving at a store\n",
    "- Goals scored in a Hockey game"
   ]
  },
  {
   "cell_type": "markdown",
   "metadata": {},
   "source": [
    "#### 2.1.3.1 Python example: Possion distribution\n",
    "- Disease cases within a given town\n",
    "Probability of 0 disease cases given the average is 5.\n",
    "\n",
    "    - $P(y=0|\\lambda=5)$\n",
    "        - $\\frac{5^0e^{-5}}{0!}=e^0=1$"
   ]
  },
  {
   "cell_type": "code",
   "execution_count": 39,
   "metadata": {},
   "outputs": [
    {
     "name": "stdout",
     "output_type": "stream",
     "text": [
      "Odds of getting 0 when mean is 5: 0.00674\n"
     ]
    }
   ],
   "source": [
    "#Python example\n",
    "poisson = lambda lamb,y :lamb**y*np.exp(-lamb)/(math.factorial(y))\n",
    "answer= round(poisson(5,0),5) \n",
    "print('Odds of getting 0 when mean is 5: {}'.format(answer))"
   ]
  },
  {
   "cell_type": "markdown",
   "metadata": {},
   "source": [
    "#### 2.1.3.2 Python example: Possion distribution\n",
    "- 100 students enter UMD library every hour.\n",
    "- What is the probability that only 102 students enter this hour?\n"
   ]
  },
  {
   "cell_type": "code",
   "execution_count": 42,
   "metadata": {},
   "outputs": [
    {
     "name": "stdout",
     "output_type": "stream",
     "text": [
      "Odds of getting 0 when mean is 5: 0.03947\n"
     ]
    }
   ],
   "source": [
    "#Python example\n",
    "poisson = lambda lamb,y :lamb**y*np.exp(-lamb)/(math.factorial(y))\n",
    "answer= round(poisson(100,101),5)\n",
    "print('Odds of getting 0 when mean is 5: {}'.format(answer))"
   ]
  },
  {
   "cell_type": "markdown",
   "metadata": {},
   "source": [
    "#### 2.1.3.3 Python example: Visualize Poisson distribution\n"
   ]
  },
  {
   "cell_type": "code",
   "execution_count": 31,
   "metadata": {},
   "outputs": [
    {
     "data": {
      "image/png": "[encoded data removed]",
      "text/plain": [
       "<Figure size 432x288 with 1 Axes>"
      ]
     },
     "metadata": {
      "needs_background": "light"
     },
     "output_type": "display_data"
    }
   ],
   "source": [
    "M = 20\n",
    "x = np.arange(M)                                  \n",
    "y = np.zeros(M) \n",
    "for lamb in [1,3,5,10]:\n",
    "    for i in range(M):\n",
    "        y[i]=poisson(lamb,i)\n",
    "    plt.plot(x, y, lw=4, label=r'$\\lambda=$'+str(lamb)) \n",
    "\n",
    "plt.legend()\n",
    "plt.title('Poisson distribution example')\n",
    "plt.margins(x=0)"
   ]
  },
  {
   "cell_type": "markdown",
   "metadata": {},
   "source": [
    "### 2.1.4 Geometric distribution\n",
    "- Distribution where the probabilities decrease exponentially\n",
    "\n",
    "The geometeric distribution is expressed as:\n",
    "\n",
    "$$P(n) = (1-p)^{n-1}p$$\n",
    "\n",
    "$$\\mu= \\frac{1}{p}\\\\\n",
    "\\sigma = \\sqrt{\\frac{1-p}{p^2}}$$\n",
    "\n",
    "### 2.1.5 Negative binomial distribution\n",
    "\n",
    "A more general form of the geometric distribution.\n",
    "- Instead of giving the first success in the nth trial, it gives the probability of an arbitrary kth success in the nth trial.\n",
    "\n",
    "the negative binomial distribution is expressed as:\n",
    "\n",
    "$$P(k|n) = {n-1 \\choose k-1}p^k(1-p)^{n-k}$$\n"
   ]
  },
  {
   "cell_type": "markdown",
   "metadata": {},
   "source": [
    "## 2.2 Continuous probability distributions\n",
    "- 2.2.1 Normal\n",
    "- 2.2.2 Exponential\n",
    "- 2.2.3 Gamma\n",
    "- 2.2.4 Beta\n",
    "- 2.2.5 Pareto\n",
    "- 2.2.6 Weibull\n",
    "\n",
    "Other:\n",
    "- Uniform distribution\n",
    "- t-distribution\n",
    "- Weibull Distribution\n",
    "- Chi-square\n"
   ]
  },
  {
   "cell_type": "markdown",
   "metadata": {},
   "source": [
    "### 2.2.1 Normal (Gaussian distribution)\n",
    "\n",
    "PDF:\n",
    "$$P(x) = \\frac{1}{\\sigma\\sqrt{2\\pi}} \\exp(-\\frac{(x-\\mu)^2}{2\\sigma^2})$$\n",
    "\n",
    "Expected value:\n",
    "$$E[X|\\mu, \\sigma] = \\mu$$\n",
    "\n",
    "CDF:\n",
    "$$CDF(x) = \\frac{1}{2}\\Big[1+erf(\\frac{x-\\mu}{\\sigma\\sqrt{2}})\\Big]\\\\\n",
    " \\\\\\text{Where erf(x)} = \\frac{2}{\\sqrt{\\pi}\\int^x_0e^{-t^2}}dt$$\n"
   ]
  },
  {
   "cell_type": "markdown",
   "metadata": {},
   "source": [
    "#### 2.2.1.1 Python example: Gaussian PDF"
   ]
  },
  {
   "cell_type": "code",
   "execution_count": 93,
   "metadata": {},
   "outputs": [
    {
     "data": {
      "image/png": "[encoded data removed]",
      "text/plain": [
       "<Figure size 432x288 with 1 Axes>"
      ]
     },
     "metadata": {
      "needs_background": "light"
     },
     "output_type": "display_data"
    }
   ],
   "source": [
    "fig, ax = plt.subplots()\n",
    "plt.xlim(-5, 5)\n",
    "plt.ylim(-0.05,0.85)\n",
    "x = np.arange(-5, 5, 0.01) \n",
    "\n",
    "def gauss(std, ave):\n",
    "    left = 1/np.sqrt(2*np.pi*std**2)\n",
    "    right = (np.exp(-(x-ave)**2/2/std**2))\n",
    "    solu = left*right\n",
    "    return solu\n",
    "\n",
    "for std in [.5,1,2]:\n",
    "    y = gauss(std,0)\n",
    "    plt.plot(x, y, lw=2, label=r'$\\sigma:$'+str(std)) \n",
    "    plt.legend()"
   ]
  },
  {
   "cell_type": "markdown",
   "metadata": {},
   "source": [
    "#### 2.2.1.2 Python example: Gaussian CDF with integration in sympy"
   ]
  },
  {
   "cell_type": "code",
   "execution_count": null,
   "metadata": {},
   "outputs": [],
   "source": [
    "x = var('x', real=True)\n",
    "f = (1/sigma)*1"
   ]
  },
  {
   "cell_type": "markdown",
   "metadata": {},
   "source": [
    "### 2.2.2 Exponential distribution\n",
    "- Similar to a Poisson random variable but it can take non-integral values because it is continuous.\n",
    "\n",
    "PDF:\n",
    "$$f_X(x|\\lambda) = \\lambda e^{-\\lambda x}, \\\\x \\geq 0$$\n",
    "\n",
    "CDF: \n",
    "$$1-e^{-\\lambda x}$$\n",
    "\n",
    "Expected value:\n",
    "$$E[X | \\lambda] = \\frac{1}{\\lambda}$$\n"
   ]
  },
  {
   "cell_type": "markdown",
   "metadata": {},
   "source": [
    "#### 2.2.2.1 Python example: Exponential distribution"
   ]
  },
  {
   "cell_type": "code",
   "execution_count": 45,
   "metadata": {},
   "outputs": [],
   "source": [
    "def expo(lamb, t):\n",
    "    result = lamb*np.exp(-lamb*t)\n",
    "    return result"
   ]
  },
  {
   "cell_type": "code",
   "execution_count": 62,
   "metadata": {},
   "outputs": [
    {
     "data": {
      "image/png": "[encoded data removed]",
      "text/plain": [
       "<Figure size 432x288 with 1 Axes>"
      ]
     },
     "metadata": {
      "needs_background": "light"
     },
     "output_type": "display_data"
    }
   ],
   "source": [
    "y1 = np.zeros(10)\n",
    "y2 = np.zeros(10)\n",
    "x = range(0,10)\n",
    "for t in range(0,10):\n",
    "    y1[t] = expo(3, t)\n",
    "    y2[t] = expo(1,t)\n",
    "plt.plot(x,y1, label=r'$\\lambda$=3')\n",
    "plt.plot(x,y2, label=r'$\\lambda$=1')\n",
    "plt.legend()\n",
    "plt.show()"
   ]
  },
  {
   "cell_type": "markdown",
   "metadata": {},
   "source": [
    "### 2.2.3 Gamma distribution\n",
    "\n",
    "PDF:\n",
    "$$f(x|\\alpha, \\beta) = \\frac{\\beta^{\\alpha}x^{\\alpha -1}e^{\\beta x}}{\\Gamma(\\alpha)}$$\n",
    "\n",
    "\n",
    "#### 2.2.3.1 Expected value of gamma proof:\n",
    "$$E[y]=\\int^{\\infty}_{-\\infty}\\frac{\\beta^\\alpha}{\\Gamma(\\alpha)}y^{\\alpha-1}e^{-\\beta y} dy\\\\\n",
    "=\\frac{\\beta^\\alpha}{\\Gamma(\\alpha)}\\int^{\\infty}_{-\\infty}y^{\\alpha-1}e^{-\\beta y}dy\\\\\n",
    "=\\frac{\\beta^\\alpha}{\\beta^{\\alpha+1}}\\frac{\\alpha!}{(\\alpha-1!)}\\\\\n",
    "=\\frac{\\alpha}{\\beta}$$"
   ]
  },
  {
   "cell_type": "markdown",
   "metadata": {},
   "source": [
    "#### 2.2.3.2 Python example: Gamma distribution"
   ]
  },
  {
   "cell_type": "code",
   "execution_count": 4,
   "metadata": {},
   "outputs": [
    {
     "data": {
      "image/png": "[encoded data removed]",
      "text/plain": [
       "<Figure size 432x288 with 1 Axes>"
      ]
     },
     "metadata": {
      "needs_background": "light"
     },
     "output_type": "display_data"
    }
   ],
   "source": [
    "from scipy.stats import gamma\n",
    "k_values = [1, 2, 3, 5]\n",
    "theta_values = [2, 1, 1, 0.5]\n",
    "x = np.linspace(1E-6, 10, 1000)\n",
    "fig, ax = plt.subplots()\n",
    "\n",
    "for k, t in zip(k_values, theta_values):\n",
    "    dist = gamma(k, 0, t)\n",
    "    plt.plot(x, dist.pdf(x),\n",
    "             label=r'$k=%.1f,\\ \\theta=%.1f$' % (k, t))\n",
    "plt.xlim(0, 8)\n",
    "plt.ylim(0, 0.45)\n",
    "\n",
    "plt.xlabel('$x$')\n",
    "plt.ylabel(r'$p(x|k,\\theta)$')\n",
    "plt.title('Gamma Distribution')\n",
    "\n",
    "plt.legend(loc=0)\n",
    "plt.show()"
   ]
  },
  {
   "cell_type": "markdown",
   "metadata": {},
   "source": [
    "### 2.2.4 Beta distribution\n",
    "- An event with two outcomes with a domain between [0,1]\n",
    "- The x-axis: possible probabilities for the events in question\n",
    "- The y-axis is the probability that the possible probability is in fact the true probability\n",
    "- The beta distribution is good for calculating the posterior disribution\n",
    "\n",
    "\n",
    "PDF:\n",
    "\n",
    "$$f(x|\\alpha, \\beta) = \\frac{x^{\\alpha-1}(1-x)^{\\beta-1}}{B(\\alpha, \\beta)}$$\n",
    "\n",
    "\n"
   ]
  },
  {
   "cell_type": "markdown",
   "metadata": {},
   "source": [
    "#### 2.2.4.1 Python example: Beta distribution"
   ]
  },
  {
   "cell_type": "code",
   "execution_count": 6,
   "metadata": {},
   "outputs": [
    {
     "data": {
      "image/png": "[encoded data removed]",
      "text/plain": [
       "<Figure size 432x288 with 1 Axes>"
      ]
     },
     "metadata": {
      "needs_background": "light"
     },
     "output_type": "display_data"
    }
   ],
   "source": [
    "a,b,θ = var('a,b,θ', real=True)\n",
    "a = [.5,.5,1]\n",
    "b = [.5,1,1]\n",
    "def beta(a, b):\n",
    "    for i in list(zip(a,b)):\n",
    "        expr = θ**(i[0]-1)*(1-θ)**(i[1]-1)\n",
    "        #display(expr)\n",
    "        length = 100\n",
    "        x = np.linspace(.01,.99,length)\n",
    "        y = np.zeros(len(np.linspace(.01,.99,length)))\n",
    "\n",
    "        for idx,j in enumerate(np.linspace(.01,.99,length)):\n",
    "            y[idx] = int(expr.subs({θ:j}))\n",
    "        plt.plot(x,y, \n",
    "                 label='(A:'+str(i[0])+'B:'+str(i[1])+'): '+str(expr))\n",
    "        plt.legend()\n",
    "        plt.xlabel(r'$\\theta$')\n",
    "            # Unable to concatenate the individual arrays\n",
    "            #print(x)\n",
    "beta(a,b)"
   ]
  },
  {
   "cell_type": "markdown",
   "metadata": {},
   "source": [
    "### 2.2.5 Pareto\n",
    "\n",
    "CDF:\n",
    "\n",
    "$$CDF(x)= 1-\\Big(\\frac{x}{x_m}\\Big)^{-\\alpha}$$\n",
    "\n"
   ]
  },
  {
   "cell_type": "markdown",
   "metadata": {},
   "source": [
    "### 2.2.6 Weibull\n",
    "\n",
    "\n",
    "CDF:\n",
    "\n",
    "$$CDF(x)= 1-e^{-(x/\\lambda)^k}$$"
   ]
  },
  {
   "attachments": {},
   "cell_type": "markdown",
   "metadata": {},
   "source": [
    "## 2.3 Compare PMF, PDF, CDF\n",
    "\n",
    "### 2.3.1 Cumulative Distribution Function (CDF):\n",
    "   - Cumulative probability a random variables takes the value of x\n",
    "   - The complimentary distribution (CCDF) of a distribution is 1-CDF\n",
    "   - Can take either discrete OR continuous"
   ]
  },
  {
   "cell_type": "markdown",
   "metadata": {},
   "source": [
    "### 2.3.2 Python example: \n",
    "\n",
    "- Consider a survey about employment that contains the question \"Are you employed?\" \n",
    "- It is known that 65% of respondents will answer \"yes.\" \n",
    "- Eight survey responses have been collected.\n",
    "\n",
    "Reference: *Reference: Shanker, Tushar. Statistical simulation in python. Datacamp*"
   ]
  },
  {
   "cell_type": "markdown",
   "metadata": {},
   "source": [
    "#### Probaility of three or less no answers? (CDF)"
   ]
  },
  {
   "cell_type": "code",
   "execution_count": 97,
   "metadata": {},
   "outputs": [
    {
     "data": {
      "image/png": "[encoded data removed]",
      "text/latex": [
       "$$0.29360056386718747$$"
      ],
      "text/plain": [
       "0.29360056386718747"
      ]
     },
     "execution_count": 97,
     "metadata": {},
     "output_type": "execute_result"
    }
   ],
   "source": [
    "ss.binom.cdf(n=8, k=4, p=.65)"
   ]
  },
  {
   "cell_type": "markdown",
   "metadata": {},
   "source": [
    "#### Probaility of five yes answers? (PMF)"
   ]
  },
  {
   "cell_type": "code",
   "execution_count": 95,
   "metadata": {},
   "outputs": [
    {
     "data": {
      "image/png": "[encoded data removed]",
      "text/latex": [
       "$$0.27858577906250004$$"
      ],
      "text/plain": [
       "0.27858577906250004"
      ]
     },
     "execution_count": 95,
     "metadata": {},
     "output_type": "execute_result"
    }
   ],
   "source": [
    "ss.binom.pmf(n=8, k=5, p=.65)"
   ]
  },
  {
   "cell_type": "markdown",
   "metadata": {},
   "source": [
    "#### Probaility of three or less no answers? (PDF)"
   ]
  },
  {
   "cell_type": "code",
   "execution_count": 99,
   "metadata": {},
   "outputs": [
    {
     "data": {
      "image/png": "[encoded data removed]",
      "text/latex": [
       "$$0.8939090951171875$$"
      ],
      "text/plain": [
       "0.8939090951171875"
      ]
     },
     "execution_count": 99,
     "metadata": {},
     "output_type": "execute_result"
    }
   ],
   "source": [
    "ss.binom.sf(n=8, k=3, p=.65)"
   ]
  },
  {
   "cell_type": "markdown",
   "metadata": {},
   "source": [
    "## 2.4 Expected values\n",
    "\n",
    "Expected value of a random variable X:\n",
    "\n",
    "$$E[X]=\\mu$$\n",
    "\n",
    "- The mean value\n",
    "    - This changes with each distribution\n",
    "- A summary of the random variable\n"
   ]
  },
  {
   "cell_type": "markdown",
   "metadata": {},
   "source": [
    "### 2.4.1 Python example: Expected values"
   ]
  },
  {
   "cell_type": "code",
   "execution_count": 121,
   "metadata": {},
   "outputs": [
    {
     "name": "stdout",
     "output_type": "stream",
     "text": [
      "0-head probability: 0.05\n",
      "1-head probability: 0.786\n",
      "2-head probability: 0.164\n",
      "Expected value= 0*p0+1*p1+2*p2= 1.114\n"
     ]
    }
   ],
   "source": [
    "from scipy.stats import find_repeats\n",
    "from scipy.stats import relfreq\n",
    "\n",
    "trials, n, prob = [1000, 10,.5]\n",
    "sample_of_two_coin_flips = ss.binom.rvs(n=n, p=prob, size=trials)\n",
    "rel_freq = relfreq(sample_of_two_coin_flips, numbins=3).frequency\n",
    "print(\"0-head probability: {}\".format(rel_freq[0]))\n",
    "print(\"1-head probability: {}\".format(rel_freq[1]))\n",
    "print(\"2-head probability: {}\".format(rel_freq[2]))\n",
    "expected = []\n",
    "for idx, headnum in enumerate([0,1,2]):\n",
    "    expected.append(rel_freq[headnum]*idx)\n",
    "print('Expected value= 0*p0+1*p1+2*p2= {}'.format(sum(expected)))"
   ]
  },
  {
   "cell_type": "markdown",
   "metadata": {},
   "source": [
    "# 3. Statistics"
   ]
  },
  {
   "cell_type": "markdown",
   "metadata": {},
   "source": [
    "## 3.1 Descriptive statistics\n",
    "\n",
    "### 3.1.1 Sample mean: $$ \\hat \\mu = \\frac{1}{n}\\sum_i x_i $$\n"
   ]
  },
  {
   "cell_type": "code",
   "execution_count": 122,
   "metadata": {},
   "outputs": [
    {
     "name": "stdout",
     "output_type": "stream",
     "text": [
      "11.0\n"
     ]
    }
   ],
   "source": [
    "x = np.random.randint(20,size=10)\n",
    "print(sum(x)/len(x))"
   ]
  },
  {
   "cell_type": "markdown",
   "metadata": {},
   "source": [
    "### 3.1.2 Sample variance:\n",
    "\n",
    "$$ \\hat \\sigma^2 = \\frac{1}{n-1} \\sum_i (x^{(i)} - \\hat \\mu)^2 $$\n"
   ]
  },
  {
   "cell_type": "code",
   "execution_count": 125,
   "metadata": {},
   "outputs": [
    {
     "name": "stdout",
     "output_type": "stream",
     "text": [
      "Deviations: [ 1.7 -5.3 -0.3 -9.3  4.7  0.7 -1.3  7.7 -7.3  8.7]\n",
      "Variance is the sum of the deviances: 33.010\n"
     ]
    }
   ],
   "source": [
    "# Deviation function\n",
    "x = np.random.randint(20,size=10)\n",
    "def deviations(x):\n",
    "    deviation = x-np.mean(x)\n",
    "    return deviation\n",
    "\n",
    "print('Deviations: {}'.format(deviations(x)))\n",
    "\n",
    "def variance(x):\n",
    "    var = sum(deviations(x)**2/len(x))\n",
    "    return var\n",
    "print('Variance is the sum of the deviances: {:.3f}'.format(variance(x)))"
   ]
  },
  {
   "cell_type": "markdown",
   "metadata": {},
   "source": [
    "### 3.1.3 Sample standard deviation:\n",
    "\n",
    "$$\\hat{\\sigma}=\\sqrt{\\frac{1}{N_1-1}\\sum_{i=1}^{N_1} (X_{1i} -\\bar{X}_1)^2}$$"
   ]
  },
  {
   "cell_type": "code",
   "execution_count": 126,
   "metadata": {},
   "outputs": [
    {
     "data": {
      "image/png": "[encoded data removed]",
      "text/latex": [
       "$$5.74543296888929$$"
      ],
      "text/plain": [
       "5.74543296888929"
      ]
     },
     "execution_count": 126,
     "metadata": {},
     "output_type": "execute_result"
    }
   ],
   "source": [
    "def std(x):\n",
    "    std = math.sqrt(variance(x))\n",
    "    return std\n",
    "\n",
    "std(x)"
   ]
  },
  {
   "cell_type": "markdown",
   "metadata": {},
   "source": [
    "### 3.1.4 T-statistic:\n",
    "\n",
    "$$t = \\frac{r}{\\sqrt{\\frac{1-r^2}{n-2}}}$$"
   ]
  },
  {
   "cell_type": "markdown",
   "metadata": {},
   "source": [
    "### 3.1.5 Covariance\n",
    "\n",
    "\n",
    "$$ \\hat \\Sigma = \\frac{1}{n-1} \\sum_i (x^{(i)} - \\hat \\mu)(x^{(t)} - \\hat \\mu)^T $$\n"
   ]
  },
  {
   "cell_type": "code",
   "execution_count": 128,
   "metadata": {},
   "outputs": [
    {
     "name": "stdout",
     "output_type": "stream",
     "text": [
      "Covariance: 9.644\n"
     ]
    }
   ],
   "source": [
    "y = np.random.randint(20,size=10)\n",
    "x = np.random.randint(20,size=10)\n",
    "\n",
    "def covar(x,y):\n",
    "    if len(x) != len(y):\n",
    "        print(\"Cannot compute for arrays of different lengths\")\n",
    "    \n",
    "    x_mean = np.mean(x)\n",
    "    y_mean = np.mean(y)\n",
    "    sum = 0\n",
    "    for i in range(0, len(x)):\n",
    "        sum += ((x[i] - x_mean) * (y[i] - y_mean))\n",
    "    return sum/(len(x)-1) #For sample covariance\n",
    "\n",
    "print('Covariance: {:.3f}'.format(covar(x,y)))"
   ]
  },
  {
   "cell_type": "markdown",
   "metadata": {},
   "source": [
    "### 3.1.6 Pearson correlation\n",
    "\n",
    "$$ r = \\frac{\\sum^n_{i=1}(\\frac{x_i - \\bar x}{s_x})(\\frac{y_i - \\bar y}{s_y})}{n-1} $$\n",
    "\n",
    "- $R^2$ is simply the square root of the above function.\n",
    "- Thus if r = 0.9, $r^2$=.81\n",
    "\n",
    "\n",
    "\n"
   ]
  },
  {
   "cell_type": "code",
   "execution_count": 130,
   "metadata": {},
   "outputs": [
    {
     "name": "stdout",
     "output_type": "stream",
     "text": [
      "Pearson: 0.1723\n"
     ]
    }
   ],
   "source": [
    "def pearson(x,y):\n",
    "    \n",
    "    cov = sum(deviations(x)*deviations(y))\n",
    "    x_std = np.std(x)\n",
    "    y_std = np.std(y)\n",
    "    \n",
    "    numerator = (cov/(x_std*y_std))\n",
    "    result = numerator/len(x-1)\n",
    "    pearson =result**2\n",
    "    \n",
    "    return pearson\n",
    "print(f'Pearson: {round(pearson(x,y),4)}')"
   ]
  },
  {
   "cell_type": "markdown",
   "metadata": {},
   "source": [
    "### 3.1.7 Central moments\n",
    "\n",
    "Expecation: \n",
    "- Value we expect to get if we repeat process and average \n",
    "\n",
    "#### Mean (1st central moment)\n",
    "$$\\mu= E[x-\\bar x]$$\n",
    "\n",
    "#### Variance (2nd central moment):\n",
    "$$\\mu_2= E[(x-\\bar x)^2]$$\n",
    "\n",
    "#### Skewness (3rd central moment):\n",
    "$$\\mu_3= E[(x-\\bar x)^3]\\\\\\\n",
    "\\text{Skewnewss} = \\frac{\\mu_3}{(\\sigma^2)^{3/2}}$$\n",
    "\n",
    "- Postive skew leans right\n",
    "\n",
    "#### Kurtosis (4th central moment):\n",
    "$$\\mu_4= [(x-\\bar x)^4]$$\n",
    "\n",
    "- Divide by the variance squared subtracted by 3:\n",
    "\n",
    "$$\\text{Kurtosis}=\\gamma = \\frac{\\mu_4}{\\sigma_4}-3$$\n",
    "$$\\gamma>0 \\ \\ \\text{Fatter tails than normal distribution}\\\\\n",
    "\\gamma<0 \\ \\ \\text{Thinner tails than normal distribution}$$"
   ]
  },
  {
   "cell_type": "code",
   "execution_count": 138,
   "metadata": {},
   "outputs": [
    {
     "name": "stdout",
     "output_type": "stream",
     "text": [
      "Mean: -0.0155\n",
      "Variance:8.989\n",
      "Standard deviation:2.998\n",
      "Skewness:0.0066\n",
      "Kurtosis:-0.004630315163214327\n"
     ]
    }
   ],
   "source": [
    "sample = np.random.normal(loc=0, scale=3, size=100000)\n",
    "def moments(sample):\n",
    "    mean = np.mean(sample)\n",
    "    print('Mean: {:.4f}'.format(mean))\n",
    "    variance = sum((sample-mean)**2)/len(sample)\n",
    "    print(\"Variance:{:.3f}\".format(variance))\n",
    "    std= math.sqrt(np.var(sample))\n",
    "    print(\"Standard deviation:{:.3f}\".format(std))\n",
    "    skewness1 = sum((sample-mean)**3)/len(sample)\n",
    "    skewness2 = skewness1/variance**(3/2)\n",
    "    print(\"Skewness:{:.4f}\".format(skewness2))\n",
    "    kurtosis1 = sum((sample-mean)**4)/len(sample)\n",
    "    kurtosis2 = (kurtosis1/variance**2)-3\n",
    "    print(\"Kurtosis:{}\".format(kurtosis2))\n",
    "moments(sample)"
   ]
  },
  {
   "cell_type": "markdown",
   "metadata": {},
   "source": [
    "## 3.2 Central limit theorem (CLT) and law of large numbers (LNN)\n",
    "\n",
    "- LNN are the conditions in which the sample moments converge to the population moments as the sample size goes to $\\infty$\n",
    "- The CLT provides information about the rate at which the sample moments converge to population moments as the sample size goes to $\\infty$"
   ]
  },
  {
   "cell_type": "markdown",
   "metadata": {},
   "source": [
    "### 3.2.1 Independent, indentically distributed (iid)\n",
    "\n",
    "- The condition in which data is independent from one another\n",
    "- The outcome of one draw has no influence over the others\n",
    "\n",
    "$$ P(X_1, \\dots, X_n) = \\prod_i P(X_i) $$"
   ]
  },
  {
   "cell_type": "markdown",
   "metadata": {},
   "source": [
    "### 3.2.2 Law of Large Numbers (LLN)\n",
    "\n",
    "Under iid conditions, as the sample size approaches infinity then sample and population mean converge:\n",
    "\n",
    "$$ \\lim_{n \\to \\infty} \\frac{1}{n} \\sum^n_{i=1} X_i = \\mu $$\n"
   ]
  },
  {
   "cell_type": "markdown",
   "metadata": {},
   "source": [
    "#### 3.2.2.1 Python example: LLN\n",
    "\n",
    "- Each distribution converges to a mean after only 100 observations\n",
    "\n",
    "*Reference: [quantecon](https://lectures.quantecon.org/py/lln_clt.html)*"
   ]
  },
  {
   "cell_type": "code",
   "execution_count": 157,
   "metadata": {},
   "outputs": [
    {
     "data": {
      "image/png": "[encoded data removed]",
      "text/plain": [
       "<Figure size 432x720 with 3 Axes>"
      ]
     },
     "metadata": {
      "needs_background": "light"
     },
     "output_type": "display_data"
    }
   ],
   "source": [
    "from scipy.stats import t, beta, lognorm, expon, gamma, uniform, cauchy\n",
    "distributions = {\n",
    "                 \"β(2, 2)\": beta(2, 2),\n",
    "                 \"γ(5, 1/2)\": gamma(5, scale=2),\n",
    "                 \"exponential with λ = 1\": expon(1)}\n",
    "# Create a figure and some axes\n",
    "num_plots = len(distributions)\n",
    "fig, axes = plt.subplots(num_plots, 1, figsize=(6, 10))\n",
    "bbox = (0., 1.02, 1., .102)\n",
    "legend_args = {'ncol': 2,'bbox_to_anchor': bbox,'loc': 3,'mode': 'expand'}\n",
    "plt.subplots_adjust(hspace=1)\n",
    "n=100\n",
    "for ax in axes:\n",
    "    name = np.random.choice(list(distributions.keys()))\n",
    "    distribution = distributions.pop(name)\n",
    "    data = distribution.rvs(n)\n",
    "    sample_mean = np.empty(n)\n",
    "    for i in range(n):\n",
    "        sample_mean[i] = np.mean(data[:i+1])\n",
    "    # Plot\n",
    "    ax.plot(list(range(n)), data, 'o', color='grey', alpha=0.5, label='Observation')\n",
    "    axlabel = name\n",
    "    ax.plot(list(range(n)), sample_mean, 'g-', lw=3, alpha=0.6, label=axlabel)\n",
    "    m = distribution.mean()\n",
    "    ax.plot(list(range(n)), [m] * n, 'k--', lw=1.5, label='$\\mu$')\n",
    "    ax.legend(**legend_args)\n",
    "\n",
    "plt.show()"
   ]
  },
  {
   "cell_type": "markdown",
   "metadata": {},
   "source": [
    "#### 3.2.2.2 Python example: LLN not satisfied\n",
    "\n",
    "If $E| X |< \\infty$ then LLN is not satisfied and thus we do not observe a convergence toward a mean of 0\n",
    "\n",
    "This can be illustrated by the Cauchy distribution which has fat tails.\n",
    "\n",
    "The density function for Cauchy:\n",
    "\n",
    "$$f(x) = \\frac{1}{\\pi (1 + x^2)} \\qquad (x \\in R)$$\n",
    "\n",
    "*Reference: [quantecon](https://lectures.quantecon.org/py/lln_clt.html)*"
   ]
  },
  {
   "cell_type": "code",
   "execution_count": 161,
   "metadata": {},
   "outputs": [
    {
     "data": {
      "image/png": "[encoded data removed]",
      "text/plain": [
       "<Figure size 864x432 with 1 Axes>"
      ]
     },
     "metadata": {
      "needs_background": "light"
     },
     "output_type": "display_data"
    }
   ],
   "source": [
    "n = 1000\n",
    "distribution = cauchy()\n",
    "\n",
    "fig, ax = plt.subplots(figsize=(12, 6))\n",
    "data = distribution.rvs(n)\n",
    "\n",
    "ax.plot(list(range(n)), data, linestyle='', marker='o', alpha=0.5)\n",
    "ax.vlines(list(range(n)), 0, data, lw=0.2)\n",
    "ax.set_title(f\"{n} observations from the Cauchy distribution\")\n",
    "\n",
    "plt.show()"
   ]
  },
  {
   "cell_type": "markdown",
   "metadata": {},
   "source": [
    "### 3.2.3 Central Limit Theorem (CLT)\n",
    "\n",
    "#### The essence of the CLT: addition under independence leads probability mass to pile up in the middle and thin out at the tails.\n",
    "\n",
    "- The CLT provides information as to the rate at which sample moments converge to population moments\n",
    "- If the CLT has a finite second moment, adding indepdendent copies of the data will lead to Gaussian curve\n",
    "\n",
    "Weak law of large numbers:\n",
    "\n",
    "$ \\frac{1}{n} \\sum^n_{i=1} X_i \\rightarrow \\mu $\n",
    "Where, variance is $\\frac{\\sigma^2}{n}$\n",
    "\n",
    "Random variable:\n",
    "\n",
    "$Z_n = (\\frac{1}{\\sqrt{n}}\\sum x_i)-\\mu$ \n",
    "\n",
    "Variance is $\\sigma^2$ because $\\frac{1}{\\sqrt{n}}$\n",
    "\n",
    "The random variable $Z_n = \\sqrt{n} (\\frac{1}{n} \\sum x_i- \\mu)$ converges to the normal distribution $N(0,\\sigma^2)$\n"
   ]
  },
  {
   "cell_type": "markdown",
   "metadata": {},
   "source": [
    "### 3.2.3.1 Python example: (CLT)\n",
    "\n",
    "- The binomial approximation of the normal distribution\n",
    "\n",
    "*Reference: [quantecon](https://lectures.quantecon.org/py/lln_clt.html)*"
   ]
  },
  {
   "cell_type": "code",
   "execution_count": 166,
   "metadata": {},
   "outputs": [
    {
     "data": {
      "image/png": "[encoded data removed]",
      "text/plain": [
       "<Figure size 432x288 with 4 Axes>"
      ]
     },
     "metadata": {
      "needs_background": "light"
     },
     "output_type": "display_data"
    }
   ],
   "source": [
    "fig, axes = plt.subplots(2, 2)\n",
    "plt.subplots_adjust(hspace=0.4)\n",
    "axes = axes.flatten()\n",
    "ns = [1, 2, 4, 8]\n",
    "dom = list(range(9))\n",
    "\n",
    "for ax, n in zip(axes, ns):\n",
    "    b = ss.binom(n, 0.5)\n",
    "    ax.bar(dom, b.pmf(dom), alpha=0.6, align='center')\n",
    "    ax.set(xlim=(-0.5, 8.5), ylim=(0, 0.55),\n",
    "           xticks=list(range(9)), yticks=(0, 0.2, 0.4),\n",
    "           title=f'$n = {n}$')\n",
    "\n",
    "plt.show()"
   ]
  },
  {
   "cell_type": "markdown",
   "metadata": {},
   "source": [
    "# 4. Maximum Likelihood"
   ]
  },
  {
   "cell_type": "markdown",
   "metadata": {},
   "source": [
    "## 4.1 Maximum Likelihood Estimation\n",
    "\n",
    "### 4.1.1 Maximum Likelihood vs. Probability (The equivalence principle) \n",
    "\n",
    "$$P(X|\\theta)=L(\\theta|X)$$\n",
    "\n",
    "##### Likelihood:\n",
    "   - Varies $\\theta$\n",
    "   - X=constant\n",
    "   \n",
    "When we hold data constant and vary the parameter we don't have valid probability distribution. It is instead called a likelihood\n",
    "\n",
    "#### 4.1.1.1 Example: Flipping a coin\n",
    "\n",
    "Bernoulli\n",
    "$Pr(x=k|\\theta)=\\theta^k(1-\\theta)^{1-k}$\n",
    "\n",
    "$x=1 \\Rightarrow pr(x=1|\\theta)=\\theta=L(\\theta|x=1)\\\\\n",
    "x=0 \\Rightarrow pr(x=0|\\theta)=1-\\theta=L(\\theta|x=0)$\n",
    "\n",
    "####  4.1.1.2 Python example: \n",
    "\n",
    "Why likelihood is not a probability distribution\n",
    "\n",
    "$x= \\begin{cases} \n",
    "0, tails \\\\\n",
    "1, heads\\end{cases}$\n",
    "\n",
    "$Pr(x=1)=\\theta\\\\\n",
    "Pr(x=0|\\theta)=1-\\theta\\\\\n",
    "Pr(x=k|\\theta)=\\theta^k(1-\\theta)^{1-k}$"
   ]
  },
  {
   "cell_type": "code",
   "execution_count": 171,
   "metadata": {},
   "outputs": [
    {
     "data": {
      "image/png": "[encoded data removed]",
      "text/plain": [
       "<Figure size 432x288 with 1 Axes>"
      ]
     },
     "metadata": {
      "needs_background": "light"
     },
     "output_type": "display_data"
    }
   ],
   "source": [
    "def ber(t,k):\n",
    "    res = t**k*(1-t)**(1-k)\n",
    "    return res\n",
    "for i in [0,1]:\n",
    "    result= ber(.75,i)\n",
    "    plt.bar(i, result)\n",
    "    plt.title(r'$\\theta$=3/4')\n",
    "    plt.xlabel('x')\n",
    "    plt.ylabel('y')\n",
    "    #plt.ylim([0,.75])"
   ]
  },
  {
   "cell_type": "markdown",
   "metadata": {},
   "source": [
    "## 4.2 Likelihood ratio\n",
    "\n",
    "Python examples:\n",
    "- 2.3.1 Binomial function\n",
    "- 2.3.2 Likelihood ratio function\n",
    "- 2.3.3 Graphing MLE estimation and Likelihood ratio function"
   ]
  },
  {
   "cell_type": "markdown",
   "metadata": {},
   "source": [
    "### 4.2.1 Binomial function"
   ]
  },
  {
   "cell_type": "code",
   "execution_count": 5,
   "metadata": {},
   "outputs": [
    {
     "name": "stdout",
     "output_type": "stream",
     "text": [
      "Likelihood ratio: 1.405\n",
      "The data is 1.4 times as probable under a fair coin hypothesis than under the trick coin hypothesis\n"
     ]
    }
   ],
   "source": [
    "def binom(n,x,p):\n",
    "    fact = (math.factorial(n))/(math.factorial(x)*math.factorial((n-x)))\n",
    "    non_fact = p**(x)*(1-p)**(n-x)\n",
    "    result = fact*non_fact\n",
    "    return result\n",
    "print(\"Likelihood ratio: {:.3f}\".format(binom(10, 6, .5)/binom(10, 6, .75)))\n",
    "print('The data is {:.1f} times as probable under a fair coin hypothesis than under the trick coin hypothesis'.format(binom(10, 6, .5)/binom(10, 6, .75)))"
   ]
  },
  {
   "cell_type": "markdown",
   "metadata": {},
   "source": [
    "### 4.2.2 Likelihood ratio function"
   ]
  },
  {
   "cell_type": "code",
   "execution_count": 181,
   "metadata": {},
   "outputs": [
    {
     "name": "stdout",
     "output_type": "stream",
     "text": [
      "1.4046639231824416\n"
     ]
    }
   ],
   "source": [
    "def likelihood_ratio(h,n,p1,p2):\n",
    "    l1 = binom(n,h,p1)/binom(n,h,(h/n))\n",
    "    l2 = binom(n,h,p2)/binom(n,h,(h/n))\n",
    "    ratio = binom(n,h,p1)/binom(n,h,p2)\n",
    "    return ratio\n",
    "\n",
    "print(likelihood_ratio(6,10,.5,.75))"
   ]
  },
  {
   "cell_type": "markdown",
   "metadata": {},
   "source": [
    "### 4.2.3 Graphing MLE estimation and Likelihood ratio function for MLE and other random point"
   ]
  },
  {
   "cell_type": "code",
   "execution_count": 174,
   "metadata": {},
   "outputs": [],
   "source": [
    "def graph_MLE(n,x, p1, p2):\n",
    "    length = np.linspace(0,1,101)\n",
    "    y_g = np.zeros(len(length))\n",
    "    for idx,i in enumerate(length):\n",
    "        y_g[idx] = binom(n,x,i)/(binom(n,x,(x/n)))\n",
    "    x_g = np.linspace(0,1,len(length))\n",
    "    plt.plot(x_g,y_g)\n",
    "    trials, heads, prob = [n, x, p1]\n",
    "    y1 = binom(trials, heads, prob)/ binom(trials, heads, (heads/trials))\n",
    "    x1 = p1\n",
    "    plt.plot(x1, y1, marker='o', color='r', label='p={}'.format(p1))\n",
    "    trials, heads, prob = [n, x, p2]\n",
    "    y2 = binom(trials, heads, prob)/ binom(trials, heads, (heads/trials))\n",
    "    x2 = p2\n",
    "    plt.plot(x2, y2, marker='o', color='g', label='p={}'.format(p2))\n",
    "    plt.title('MLE estimation for getting {} heads in {} tosses'.format(x,n))\n",
    "    plt.axvline(x=.6,ymax=.95, color='orange', label='Hypothesis best supported by the data')\n",
    "    plt.legend(loc='upper center', bbox_to_anchor=(0.5, -0.12), ncol=3, fancybox=True, shadow=True)\n",
    "    plt.arrow(x1,y1,(x2-x1),0, color='pink')\n",
    "    plt.arrow(x2,y1,0,(y2-y1), color='pink')\n",
    "    plt.text(.8,.7,'L_Ratio:{:.3f}'.format(likelihood_ratio(x,n,p1,p2)), color='pink')\n",
    "    plt.show()"
   ]
  },
  {
   "cell_type": "markdown",
   "metadata": {},
   "source": [
    "Compare each of our hypotheses against the best supported hypothesis. \n",
    "\n",
    "We compute the likelihood ratios: \n",
    "1. L(.6)/L(.5) ≈ 7.5 \n",
    "2. L(.6)/L(.75) ≈ 224."
   ]
  },
  {
   "cell_type": "code",
   "execution_count": 186,
   "metadata": {},
   "outputs": [
    {
     "data": {
      "image/png": "[encoded data removed]",
      "text/plain": [
       "<Figure size 432x288 with 1 Axes>"
      ]
     },
     "metadata": {
      "needs_background": "light"
     },
     "output_type": "display_data"
    },
    {
     "data": {
      "image/png": "[encoded data removed]",
      "text/plain": [
       "<Figure size 432x288 with 1 Axes>"
      ]
     },
     "metadata": {
      "needs_background": "light"
     },
     "output_type": "display_data"
    }
   ],
   "source": [
    "plt.subplot(2,1,1)\n",
    "graph_MLE(100,60, .6,.75)\n",
    "plt.subplot(2,1,2)\n",
    "graph_MLE(100,60, .6,.5)"
   ]
  },
  {
   "cell_type": "markdown",
   "metadata": {},
   "source": [
    "## 4.3 Likelihood function\n",
    "\n",
    "\n",
    "$\\theta$ is a parameter of unknown value\n",
    "\n",
    "- Let $x_1,\\cdots x_n$ random sample from the PMF/PDF: $f(x|\\theta)$\n",
    "    - Assume x's are iid\n",
    "    \n",
    "##### Likelihood function:\n",
    "\n",
    "$$L(\\theta|x_1\\cdots x_n)\\\\\n",
    "= \\text{Joint PMF of of our random sample}\\\\\n",
    "=F(x_1|\\theta)\\cdots f(x_n|\\theta)\\\\\n",
    "=\\prod f(x_i|\\theta)$$\n",
    "\n",
    "#### $\\color{red}{\\text{The maximumum likelihood estimator (MLE) is the value of} \\ \\ \\theta \\ \\  \\text{that maximizes} \\ L(\\theta|x_1 \\cdots x_n)}$"
   ]
  },
  {
   "cell_type": "markdown",
   "metadata": {},
   "source": [
    "### 4.3.1 Binomial MLE\n",
    "\n",
    "#### Binomial Likelihood function:\n",
    "$f(p|x)=\\Big(\\frac{n}{x}\\Big)p^x(1-p)^{n-k}\\\\\n",
    "= log L(p|x)=log\\Big(\\frac{n}{k}\\Big)+x log(p)+(n-x)log(1-p)\\\\\n",
    "=log\\prime= \\frac{x}{p}+\\frac{n-x}{1-p}(-1)\\\\\n",
    "\\text{Set equal to 0 and solve for P}\\\\\n",
    "=\\frac{x}{p}=\\frac{n-x}{1-p}\\\\\n",
    "=\\hat{p}=\\frac{x}{n}$\n",
    "\n",
    "#### Example: Binomial MLE\n",
    "- 6 free throws\n",
    "- 5 are successful\n",
    "- X=# of successes\n",
    "    - x=5, n=6\n",
    "- Assume $x\\sim Binomial(n,p)$\n",
    "- So the PMF is: $f(x|p)=\\Big(\\frac{n}{x}\\Big)p^x(1-\\theta)^{n-k}$\n",
    "$$\\hat{p}=5/6$$\n",
    "\n",
    "Product of the PMFS:\n",
    "$$L(P|x_1, \\cdots, x_6)=\\prod^{6}_{i=1}f(x_i|p)\\\\\n",
    "=\\prod^{6}_{i=1}p^{xi}(1-p)^{1-x_i}\\\\\n",
    "=p^{\\sum^6 x_i}(1-p)^{\\sum^6 1-x_i}\\\\\n",
    "=Log(P|x)=(\\sum^6 x_i)log(p)+\\sum^6(1-x_i)log(1-p)\\\\\n",
    "L\\prime(P|x)=\\frac{\\sum x_i}{p}-\\frac{\\sum(1-x_1)}{1-p}\\\\\n",
    "\\text{Set equal to 0 and solve for P}\\\\\n",
    "\\Rightarrow\\frac{\\sum x_i}{p}=\\frac{\\sum(1-x_i)}{1-p}\\\\\n",
    "= (1-p)\\sum x_i = p\\sum (1-x_i)\\\\\n",
    "\\sum x_i-p\\sum x_i = p[\\sum^6-\\sum^6 x_i]\\\\\n",
    "\\Rightarrow \\sum x_i =\\frac{6}{p}\\\\\n",
    "\\Rightarrow \\hat{p}=\\frac{\\sum x_i}{6}\n",
    "$$\n",
    "\n",
    "\n",
    "### 4.3.2 Poisson MLE\n",
    "\n",
    "#### PDF:\n",
    "$$PDF=f(x_i|\\lambda) =\\frac{e^{-\\lambda}\\lambda^{xi}}{x_i!}$$\n",
    "\n",
    "#### Example: Poisson MLE\n",
    "\n",
    "$x_i$ = # of textbooks\n",
    "\n",
    "Random sample of 50 students asking them how many textbook students purchase\n",
    "\n",
    "$\\sum^{50}_{i=1} x_i=150$\n",
    "\n",
    "$x_i\\sim Poisson(\\lambda)$\n",
    "\n",
    "\n",
    "#### Likelihood function:\n",
    "$$L(\\lambda|x_1,\\cdots, x_{50}) = \\prod^{50}_{i=1}f(x_i|\\lambda)\\\\\n",
    "=\\prod^{50}_{i=1}\\frac{e^{-\\lambda}\\lambda^{xi}}{xi!}\\\\\n",
    "log(\\lambda|x_1,\\cdots, x_{50}) = \\sum^{50}log\\Big[\\frac{e^{-\\lambda}\\lambda^{xi}}{xi!} \\Big]\\\\\n",
    "=\\sum^{50}[-\\lambda+xi \\ \\ log\\lambda-log(xi!)]\\\\\n",
    "\\text{Since we can drop out the constants}\\\\\n",
    "Log(\\lambda|x_1,\\cdots, x_{50})\\propto\\sum^{50}[-\\lambda+x_i log \\lambda]\\\\\n",
    "=-50\\lambda+\\sum x_i log \\lambda\\\\\n",
    "=\\text{Take derivative w.r.t lambda}\\\\\n",
    "Log(\\lambda|x_1,\\cdots, x_{50})\\prime= -50 +\\frac{\\sum^{50}}{\\lambda}\\\\\n",
    "\\text{Set to zero}\n",
    "\\Rightarrow 50=\\frac{\\sum x_i}{\\lambda}\\\\\n",
    "\\Rightarrow \\hat{\\lambda}=\\frac{\\sum x_i}{50}=\\frac{150}{50}=3$$\n",
    "\n",
    "### 4.3.3 Uniform MLE\n",
    "\n",
    "PDF:\n",
    "$f(x_i|\\theta) = \\frac{1}{\\theta}$\n",
    "\n",
    "### 4.3.4 Normal MLE\n",
    "\n",
    "-The PDF equation quantifies how likely it is our chosen values will appear in a distribution with certain parameters.\n",
    "\n",
    "\n",
    "#### 4.3.4.1 Python example: Normal MLE\n",
    "\n",
    "\n",
    "- We sample the number 3\n",
    "    - What is the probability it comes from a distribution of μ = 3 and σ = 1?\n",
    "    \n",
    "*Reference: Knudson, Christina. [Maximum Likelihood Estimation](https://www.youtube.com/playlist?list=PLdxWrq0zBgPXWD7_sc7uf8BdirORFRA2-)*\n"
   ]
  },
  {
   "cell_type": "code",
   "execution_count": 188,
   "metadata": {},
   "outputs": [
    {
     "data": {
      "image/png": "[encoded data removed]",
      "text/latex": [
       "$$0.3989422804014327$$"
      ],
      "text/plain": [
       "0.3989422804014327"
      ]
     },
     "execution_count": 188,
     "metadata": {},
     "output_type": "execute_result"
    }
   ],
   "source": [
    "ss.norm.pdf(3,3,1)"
   ]
  },
  {
   "cell_type": "markdown",
   "metadata": {},
   "source": [
    "#### 4.3.4.2 Python example: Normal MLE\n",
    "- What is the probability of drawing a 2 and a 6 consecutively from a distribution of $\\mu=4, \\sigma=1$"
   ]
  },
  {
   "cell_type": "code",
   "execution_count": 191,
   "metadata": {},
   "outputs": [
    {
     "data": {
      "image/png": "[encoded data removed]",
      "text/latex": [
       "$$0.0029150244650281948$$"
      ],
      "text/plain": [
       "0.0029150244650281948"
      ]
     },
     "execution_count": 191,
     "metadata": {},
     "output_type": "execute_result"
    }
   ],
   "source": [
    "ss.norm.pdf(2, 4, 1)*ss.norm.pdf(6, 4, 1)"
   ]
  },
  {
   "cell_type": "markdown",
   "metadata": {},
   "source": [
    "## 4.4 Calculating the Log-likelihood\n",
    "\n",
    "- Comparing the data to the distribution"
   ]
  },
  {
   "cell_type": "markdown",
   "metadata": {},
   "source": [
    "### 4.4.1 Python example: Log-likelihood\n",
    "\n",
    "Calculate log likelihood of sample of 13 numbers in the variable x.\n",
    "\n",
    "x = [4, 5, 7, 8, 8, 9, 10, 5, 2, 3, 5, 4, 8, 9]\n"
   ]
  },
  {
   "cell_type": "code",
   "execution_count": 29,
   "metadata": {},
   "outputs": [
    {
     "name": "stdout",
     "output_type": "stream",
     "text": [
      "The Log-Likelihood x for mu = 5 and sd = 3: -33.9679\n",
      "The Log-Likelihood x for mu = 7 and sd = 3: -33.3013\n"
     ]
    }
   ],
   "source": [
    "x = [4, 5, 7, 8, 8, 9, 10, 5, 2, 3, 5, 4, 8, 9]\n",
    "\n",
    "def compare_data_to_dist(x, mu_1=5, mu_2=7, sd_1=3, sd_2=3):\n",
    "    ll_1 = 0\n",
    "    ll_2 = 0\n",
    "    for i in x:\n",
    "        ll_1 += np.log(ss.norm.pdf(i, mu_1, sd_1))\n",
    "        ll_2 += np.log(ss.norm.pdf(i, mu_2, sd_2))\n",
    "    \n",
    "    print(r\"The Log-Likelihood x for mu = %d and sd = %d: %.4f\" % (mu_1, sd_1, ll_1))\n",
    "    print(r\"The Log-Likelihood x for mu = %d and sd = %d: %.4f\" % (mu_2, sd_2, ll_2))\n",
    "compare_data_to_dist(x)"
   ]
  },
  {
   "cell_type": "markdown",
   "metadata": {},
   "source": [
    "## 4.5 Numerical optimization\n",
    "\n",
    "$$ \\ell(\\theta)= Log f_{Y_T,Y_{t-1}\\cdots, Y_1}(y_T,y_{T-1}, \\cdots,y_1; \\theta)\\tag{5.7.1}$$\n",
    "\n",
    "- Given the observed data, the foormulas given could be used to cacluclate the value of $\\ell(\\theta)$\n",
    "- We can guess value of $\\theta$ to see what the result of $\\ell(\\theta)$ will be\n",
    "- Using a series of guesses for $\\theta$ compare the outputs $\\ell(\\theta)$ and try to infer the max value of $\\hat{\\theta}$\n",
    "    - This is described as numerical maximization\n",
    "    \n",
    "### 4.5.1 Grid search\n",
    "\n",
    "- The simplest approach to numerical maximazation is known as the grid search method\n",
    "\n",
    "##### 4.5.1.1 Python example: Grid search\n",
    "- Suppose we have an AR(1) process\n",
    "    - Mean 0: c=0\n",
    "    - Unit variance: $\\sigma^2=1$\n",
    "    - The only unknown parameter is the autoregressive coefficient $\\phi$\n",
    "\n",
    "$$\\ell(\\theta)= -\\frac{T}{2}log(2\\pi)+\\frac{1}{2}log(1-\\phi^2)-\\frac{1}{2}(1-\\phi^2)y_1^2-\\frac{1}{2}\\sum^{T}_{t=2}(y_t-\\phi y_{t-1})^2 \\tag{5.7.2}$$\n",
    "\n",
    "Suppose the sample consists of the following T=5 observations:\n",
    "$$y_1 = .8 \\ y_2 = .2 \\ y_3 = -1.2 \\ y_4 = -.4 \\ y_5 = 0$$\n",
    "\n",
    "\n",
    "*Reference: Hamilton, J. D. [Time series analysis.](https://www.amazon.com/Time-Analysis-James-Douglas-Hamilton/dp/0691042896) *Princeton University. (1994)**"
   ]
  },
  {
   "cell_type": "code",
   "execution_count": 28,
   "metadata": {},
   "outputs": [
    {
     "name": "stdout",
     "output_type": "stream",
     "text": [
      "Max theta when L(Theta)=0: -5.895\n"
     ]
    },
    {
     "data": {
      "text/plain": [
       "[]"
      ]
     },
     "execution_count": 28,
     "metadata": {},
     "output_type": "execute_result"
    },
    {
     "data": {
      "image/png": "[encoded data removed]",
      "text/plain": [
       "<Figure size 432x288 with 1 Axes>"
      ]
     },
     "metadata": {
      "needs_background": "light"
     },
     "output_type": "display_data"
    }
   ],
   "source": [
    "obs = [0.8, 0.2, -1.2, -0.4, 0]\n",
    "def grid_search(T, phi, obs):\n",
    "    one = -(T/2)*np.log(2*np.pi)\n",
    "    two = (1/2)*np.log(1-phi**2)\n",
    "    three = -1/2*(1-phi**2)*obs[0]**2 #obs[0]=y_1\n",
    "    y = np.zeros(4)\n",
    "    for i in range(0,4):\n",
    "        y[i]= obs[i+1]-(phi*obs[i])\n",
    "    four = -(1/2*(sum(y)**2))\n",
    "    #End fourth\n",
    "    \n",
    "    combine = one+two+three+four\n",
    "    return combine\n",
    "\n",
    "print('Max theta when L(Theta)=0: {:.3f}'.format(grid_search(5, 0, obs)))\n",
    "y = np.zeros(len(np.linspace(-.9,.9,19)))\n",
    "x = np.linspace(-.9,.9,19)\n",
    "for idx, i in enumerate(np.linspace(-.9,.9,19)):\n",
    "    y[idx]= grid_search(5,i, obs)\n",
    "plt.scatter(x,y)\n",
    "plt.title('Fig 4.6.1.1 : Log likelihood for AR(1) processes for various guesses of $\\phi$', size=9)\n",
    "plt.xlabel('$\\Phi$')\n",
    "plt.ylabel(r'$Log(\\theta)$')\n",
    "plt.show()"
   ]
  },
  {
   "cell_type": "markdown",
   "metadata": {},
   "source": [
    "- Fig 4.5.2.1 has a unique maximum\n",
    "\n",
    "\n",
    "- In order to find the exact maximum we have to focus on a more granular subregion in the parameter space to come abritrarily close to the value of $\\phi$ that maximizes $\\ell(\\theta)$\n",
    "\n",
    "\n",
    "- But even focusing on a subregion, we do not find an exact MLE $\\hat\\theta$ but instead approximates it within a desired accuracy\n",
    "    - This is the case with any numerical maximization algo\n",
    "    \n",
    "- Thus to use these algos we must set a `convergence criterion`\n",
    "\n",
    "\n",
    "- For AR(1) the log-likelihood function is unimodal\n",
    "    - In other words there is a unique $\\theta$ at $\\frac{\\partial\\ell(\\theta)}{\\partial\\theta}=0$"
   ]
  },
  {
   "cell_type": "markdown",
   "metadata": {},
   "source": [
    "### 4.5.2 Steepest ascent\n",
    "\n",
    "- Grid search is appropriate when there is a single unknown parameter to estimmate\n",
    "- But it becomes difficult when $\\theta$ becomes large\n",
    "\n",
    "- An alternate method to maximize a continuously differentiable function of a large number of parameters is known as steepest ascent\n",
    "\n",
    "\n",
    "- Suppose:\n",
    "    - We have an initial parameter vector $\\theta^{(0)}$ \n",
    "    - We want to come up with a better estimate $\\theta^{(1)}$\n",
    "    - But we are constrained to choose $\\theta^{(1)}$ so that the squared sitance between $\\theta^{(0)}$ and $\\theta^{(1)}$ is some fixed number K:\n",
    "        - $(\\theta^{(1)}-\\theta^{(0)})\\prime(\\theta^{(1)}-\\theta^{(0)})$\n",
    "\n",
    "Thus we the optimal value of $\\theta^{(1)}$ would be the solution to a constrained maximization problem with the lagrangean form:\n",
    "\n",
    "$$J(\\theta^{(1)}) =log(\\theta^{(1)})+\\lambda[k-(\\theta^{(1)}-\\theta^{(0)})\\prime(\\theta^{(1)}-\\theta^{(0)})] \\tag{5.7.3}$$\n",
    "\n",
    "Differentiating 5.7.3 w.r.t $\\theta^{(1)}$ and setting result equal to zero:\n",
    "\n",
    "$$\\frac{\\partial log(\\theta)}{\\partial\\theta}\\Bigr\\rvert_{\\theta=\\theta^{(1)}}- (2\\lambda)(\\theta^{1}-\\theta^{(0)})=0\\tag{5.7.4}$$\n",
    "\n",
    "The gradiant vector of the log likelihood function:\n",
    "- If there are a elements in $\\theta$ then $g(\\theta)$ is an (ax1) vector whose ith element represents the derivative of the log likelihood w.r.t the ith element of $\\theta$\n",
    "\n",
    "$$g(\\theta)\\equiv \\frac{\\partial log(\\theta)}{\\partial\\theta}$$\n",
    "\n",
    "We can write 5.7.4 as:\n",
    "\n",
    "$$\\theta^{(1)}-\\theta^{(0)}= (1/2\\lambda)*g(\\theta^{(1)})\\tag{5.7.5}$$\n",
    "\n",
    "- Expression 5.7.5 asserts that if we are allowed to change $\\theta$ by only a fixed amount, the biggest increase in the log likelihood function will be achieved if the change in theta is chosen to be constant $1/(2/\\lambda)$ times the gradiant vector.\n",
    "- The gradiant vector $g(\\theta^{(0)})$ gives the direction in which the log likelihood function increases most steeply from $\\theta^{(0)}$\n",
    "\n",
    "\n",
    "- Hamilton, J. D. [Time series analysis.](https://www.amazon.com/Time-Analysis-James-Douglas-Hamilton/dp/0691042896) *Princeton University. (1994)*\n",
    "\n",
    "#### 4.5.2.1 Python Example: Steepest ascent"
   ]
  },
  {
   "cell_type": "code",
   "execution_count": 31,
   "metadata": {},
   "outputs": [
    {
     "data": {
      "image/png": "[encoded data removed]",
      "text/latex": [
       "$$- 1.5 θ1^{2} - 2 θ2^{2}$$"
      ],
      "text/plain": [
       "        2       2\n",
       "- 1.5⋅θ1  - 2⋅θ2 "
      ]
     },
     "execution_count": 31,
     "metadata": {},
     "output_type": "execute_result"
    }
   ],
   "source": [
    "from sympy import symbols, diff, solve, var, Derivative, Transpose\n",
    "from sympy import init_printing\n",
    "from sympy.tensor.array import derive_by_array\n",
    "from IPython.display import display\n",
    "θ1, θ2 = var('θ1 θ2', real=True)\n",
    "\n",
    "ll = -1.5*θ1**2-2*θ2**2\n",
    "ll"
   ]
  },
  {
   "cell_type": "code",
   "execution_count": 33,
   "metadata": {},
   "outputs": [
    {
     "data": {
      "image/png": "[encoded data removed]",
      "text/latex": [
       "$$- 3.0 θ1$$"
      ],
      "text/plain": [
       "-3.0⋅θ1"
      ]
     },
     "execution_count": 33,
     "metadata": {},
     "output_type": "execute_result"
    }
   ],
   "source": [
    "Derivative(ll, θ1).doit()"
   ]
  },
  {
   "cell_type": "code",
   "execution_count": 34,
   "metadata": {},
   "outputs": [
    {
     "data": {
      "image/png": "[encoded data removed]",
      "text/latex": [
       "$$- 4 θ2$$"
      ],
      "text/plain": [
       "-4⋅θ2"
      ]
     },
     "execution_count": 34,
     "metadata": {},
     "output_type": "execute_result"
    }
   ],
   "source": [
    "Derivative(ll, θ2).doit()"
   ]
  },
  {
   "cell_type": "code",
   "execution_count": 37,
   "metadata": {},
   "outputs": [
    {
     "name": "stdout",
     "output_type": "stream",
     "text": [
      "Gradient:\n"
     ]
    },
    {
     "data": {
      "text/latex": [
       "$$\\left[\\begin{matrix}- 3.0 θ1 & - 4 θ2\\end{matrix}\\right]$$"
      ],
      "text/plain": [
       "[-3.0⋅θ1  -4⋅θ2]"
      ]
     },
     "execution_count": 37,
     "metadata": {},
     "output_type": "execute_result"
    }
   ],
   "source": [
    "print('Gradient:')\n",
    "grad = derive_by_array(ll, (θ1, θ2))\n",
    "grad"
   ]
  },
  {
   "cell_type": "code",
   "execution_count": 38,
   "metadata": {
    "scrolled": true
   },
   "outputs": [
    {
     "name": "stdout",
     "output_type": "stream",
     "text": [
      "Hessian:\n"
     ]
    },
    {
     "data": {
      "image/png": "[encoded data removed]",
      "text/latex": [
       "$$\\left[\\begin{matrix}-3.0 & 0\\\\0 & -4\\end{matrix}\\right]$$"
      ],
      "text/plain": [
       "⎡-3.0  0 ⎤\n",
       "⎢        ⎥\n",
       "⎣ 0    -4⎦"
      ]
     },
     "execution_count": 38,
     "metadata": {},
     "output_type": "execute_result"
    }
   ],
   "source": [
    "print('Hessian:')\n",
    "derive_by_array(derive_by_array(ll, (θ1, θ2)), (θ1, θ2))"
   ]
  },
  {
   "cell_type": "markdown",
   "metadata": {},
   "source": [
    "Suppose we guess $\\theta^{(0)}=(-1,1)\\prime$\n"
   ]
  },
  {
   "cell_type": "code",
   "execution_count": 40,
   "metadata": {},
   "outputs": [
    {
     "data": {
      "image/png": "[encoded data removed]",
      "text/latex": [
       "$$\\left[\\begin{matrix}3.0 & -4\\end{matrix}\\right]$$"
      ],
      "text/plain": [
       "[3.0  -4]"
      ]
     },
     "execution_count": 40,
     "metadata": {},
     "output_type": "execute_result"
    }
   ],
   "source": [
    "grad.subs({θ1:-1,θ2:1})"
   ]
  },
  {
   "cell_type": "markdown",
   "metadata": {},
   "source": [
    "The gradient vector evaluated at $\\theta^{(0)} is$:\n",
    "\n",
    "$$g(\\theta^{(0)})=\\begin{bmatrix}3\\\\-4 \\end{bmatrix}$$\n",
    "\n",
    "So the optimal step $(\\theta^{(1)}-\\theta^{(0)})$ should be proportional to (3,-4): for example with k=1 we would choose:\n",
    "\n",
    "$$ (\\theta_1^{(1)}-\\theta_0^{(0)})=3/5\\\\\n",
    "(\\theta_2^{(1)}-\\theta_2^{(0)})=-4/5$$\n",
    "\n",
    "- So our guesses would be $\\theta_1^{(1)}=-.4 \\theta_2^{(1)}=.2$\n",
    "- To increase the likelihood by the greatest amount we want to increase $theta_1$ and decrease $theta_2$ relative to their values at the initial guess $\\theta^{(0)}$\n",
    "\n",
    "Returning to the black box perspective we can aribitrarily guess the value of $\\theta$ and then calculate the gradient vector at $\\theta^{(0)}$:\n",
    "\n",
    "$g(\\theta^{(0)})= \\frac{\\partial log(\\theta)}{\\partial\\theta}\\Bigr\\rvert_{\\theta=\\theta^{(0)}}\\tag{5.7.8}$\n",
    "\n",
    "5.7.5 suggests that we should tinker with the value of $\\theta$ in the direction of the gradient:\n",
    "\n",
    "$$(\\theta^{(1)}-\\theta^{(0)})=s*g(\\theta^{(0)})$$\n",
    "\n",
    "- We can then plug in different values of S: [1/16,1/8,1/4] choosing new estimates of $\\theta^(1)$\n",
    "- This is continued iteratively:\n",
    "\n",
    "$$\\theta^{(m+1)}\\theta^{(m)}+s*g(\\theta^{(m)})$$\n",
    "\n",
    "This process continues until some convergence criterion is satisfied.\n",
    "\n",
    " ### 4.5.3 Newton-Rapson\n",
    " \n",
    "- The drawback of the steepest-ascent method is that it requires a large numer of iterations to close in on a local max.\n",
    "- An alternative method is the Newton-Raphson\n",
    "    - It often covernges more quickly IF:\n",
    "        1. Second derivatives of the log likelihood function $\\ell(\\theta)$ exist\n",
    "        2. The function $\\ell(\\theta)$ is concave, meaning that the -1 times the matrix of the second derivatives is everywhere positive definite\n",
    "\n",
    "\n",
    "$\\underset{ax1}{g(\\theta^{(0)})}= \\frac{\\partial log(\\theta)}{\\partial\\theta}\\Bigr\\rvert_{\\theta=\\theta^{(0)}}$\n",
    "\n",
    "And $H(\\theta^{0})$ denotes the -1 times the matrix of second derivatives\n",
    "\n",
    "$\\underset{axa}{H(\\theta^{0})}= \\frac{\\partial^2 log(\\theta)}{\\partial\\theta\\partial\\theta\\prime}\\Bigr\\rvert_{\\theta=\\theta^{(0)}} $\n",
    "\n",
    "\n",
    "Consider approximating $log(\\theta)$ with a second order taylor series around $\\theta^{(0)}$\n",
    "\n",
    "$log(\\theta)\\cong log(\\theta^{(0)})+g(\\theta^{0})\\prime(\\theta-\\theta^{(0)})- 1/2(\\theta-\\theta^{(0)})\\prime H(\\theta^{(0)})(\\theta-\\theta^{(0)})\\tag{5.7.10}$\n",
    " \n",
    " Setting the derivative of 5.7.10 w.r.t $\\theta$ equal to zero:\n",
    " \n",
    " $g(\\theta^{0})-H(\\theta^{(0)})(\\theta-\\theta^{(0)})\\tag{5.7.11}$\n",
    "\n",
    "Expression 5.7.11 suggests that an improved estimate of $\\theta$ would satisfy:\n",
    "\n",
    " $(\\theta^{1}-\\theta^{0})=H(\\theta^{(0)})^{-1}g(\\theta^{(0)})\\tag{5.7.12}$\n",
    "\n",
    "\n",
    "- You can calculate the derivative of the log likelihood at the initial guess $g(\\theta^{(0)})$ either analytically as in 5.7.7 or numerically 5.7.9\n",
    "\n",
    "- If the log likelihood function happens to be a perfect quadratic function then 5.7.10 holds excactly then 5.7.12 will generate the exact MLE in a single step\n",
    "- If the quadratic approximation is reasonably good, Newton_rhapson should converge to the local maximum more quickly than the steepest-ascent. \n",
    "    - If the likelihood function is not concave this is not the case\n",
    "    - Steepest ascent is slower to converge but more robust\n",
    "    \n",
    "\n",
    "*Reference: Hamilton, J. D. [Time series analysis.](https://www.amazon.com/Time-Analysis-James-Douglas-Hamilton/dp/0691042896) *Princeton University. (1994)**"
   ]
  },
  {
   "cell_type": "markdown",
   "metadata": {},
   "source": [
    " #### 4.5.3.1 Example: Newton-Rapson\n",
    " \n",
    " Newton Raphson equation:\n",
    " \n",
    " $$x_{n+1}=x_n-\\frac{f(x_n)}{f\\prime(x_N)}$$\n",
    " \n",
    "##### Problem:\n",
    "- Given $x^3+2x-2=0$ has a root between 0 and 1, find the root using the Newton-Rhapson method"
   ]
  },
  {
   "cell_type": "code",
   "execution_count": 43,
   "metadata": {},
   "outputs": [
    {
     "name": "stdout",
     "output_type": "stream",
     "text": [
      "1\n",
      "0.8333333333333334\n",
      "0.785063752276867\n",
      "0.7739310916241456\n",
      "0.7715497296713583\n",
      "0.7710493991999068\n",
      "x:  1\n",
      "x0:  0.7709446841632347\n",
      "f(x0) =  1\n"
     ]
    }
   ],
   "source": [
    "from scipy import misc\n",
    "def newtonrhap(f, x, tolerance=0.0001):\n",
    "    while True:\n",
    "        x1 = x - f(x) / misc.derivative(f, x) \n",
    "        t = abs(x1 - x)\n",
    "        if t < tolerance:\n",
    "            break\n",
    "        print(x)\n",
    "        x = x1\n",
    "    return x\n",
    "def f(x):\n",
    "    return x**3+(2*x)-2\n",
    "\n",
    "x = 1\n",
    "x0 = newtonrhap(f, x)\n",
    "\n",
    "print('x: ', x)\n",
    "print('x0: ', x0)\n",
    "print(\"f(x0) = \", x**3+(2*x)-2)"
   ]
  },
  {
   "cell_type": "markdown",
   "metadata": {},
   "source": [
    "# 5. Baye's theorem\n",
    "\n",
    "## 5.1 introduction\n",
    "Probability of a conjuction:\n",
    "$$P(A \\ \\text{and} \\ B) = p(A)p(B|A)$$\n",
    "\n",
    "A and B are intererchangable:\n",
    "$$P(B \\ \\text{and} \\ A) = p(B)p(A|B)$$\n",
    "\n",
    "Combining the two:\n",
    "$$P(B)P(A|B)=P(A)p(B|A)$$\n",
    "\n",
    "Divide by p(B) for `Bayes theorem:`\n",
    "$$P(A|B)= \\frac{P(A)p(B|A)}{p(B)}$$\n",
    "\n",
    "\n",
    "##### Another way to view Bayes is:\n",
    "$$P(H|E) = P(\\text{Hypothesis}) \\cdot \\frac{P(\\text{Evidence}|\\text{Hypothesis})}{\\text{Evidence}} $$\n",
    "\n",
    "- Probability of H after you have seen E is the product of P(H)\n",
    "    - This is the probability of H before you saw the evidence, and the ratio of P(E|H),\n",
    "    - The probability of seeing the evidence assuming that H is true and P(E), \n",
    "    - The probability of seeing the evidence under any circumstances (H true or not).\n",
    "\n",
    "\n",
    "- `Posterior:` P(H|E)\n",
    "- `Likelihood:` P(E|H)\n",
    "- `Normalizing constant:` P(E)\n"
   ]
  },
  {
   "cell_type": "markdown",
   "metadata": {},
   "source": [
    "### 5.1.1 Example: Baye's theorem\n",
    "\n",
    "\n",
    "### The Cookie problem:\n",
    "\n",
    "- Bowl 1: 30 vanilla, 10 chocolate\n",
    "- Bowl 2: 20 vanilla, 20 chocolate\n",
    "\n",
    "**Suppose we randomly draw a vanilla cookie. What is the probability it came from bowl 1?**\n",
    "\n",
    "- This answer would be straightforward IF the question was P(Vanilla|Bowl 1).\n",
    "   - 3/4 because 30/40 cookies are vanilla in bowl one\n",
    "   \n",
    "Instead the answer can be found using Bayes\n",
    "\n",
    "$$P(\\text{Bowl 1}|\\text{Vanilla})= \\frac{p(B_1)p(V|B_1)}{p(V)}\\\\\n",
    "= \\frac{1/2\\cdot3/4}{5/8}\\\\\n",
    "=.6$$"
   ]
  },
  {
   "cell_type": "markdown",
   "metadata": {},
   "source": [
    "### Python Example: Simulating a bayesian problem\n",
    "\n",
    "- 9 urns contain 2 white, 2 black: Let's call these \"Uniform urns\"\n",
    "- 1 urn contains 5 white, 1 black: Let's call these \"Black sheep urn\"\n",
    "- A white ball is drawn\n",
    "\n",
    "Question: What is the probability that the ball is from the \"Black sheep urn\"?\n",
    "\n",
    "\n"
   ]
  },
  {
   "cell_type": "code",
   "execution_count": 651,
   "metadata": {},
   "outputs": [
    {
     "name": "stdout",
     "output_type": "stream",
     "text": [
      "Analytical prob: 0.15625\n"
     ]
    },
    {
     "data": {
      "image/png": "[encoded data removed]",
      "text/plain": [
       "<Figure size 432x288 with 1 Axes>"
      ]
     },
     "metadata": {
      "needs_background": "light"
     },
     "output_type": "display_data"
    }
   ],
   "source": [
    "#Create 9 \"uniform urns\"\n",
    "uniform_urns= {}\n",
    "for i in range(1,10):\n",
    "    contents = ['w']*2 + ['b']*2\n",
    "    uniform_urns[str('urn_%s' % i)] = contents\n",
    "#Create \"black sheep urn\"\n",
    "blacksheep = ['w']*5+['b']*1\n",
    "print('Analytical prob: {}'.format(5/32))\n",
    "sims1, sims2 = [1000,100]\n",
    "sims_result = []\n",
    "for _ in range(sims1):\n",
    "    success = 0\n",
    "    for _ in range(sims2):\n",
    "        urns = list(uniform_urns.keys())\n",
    "        urns.append('black')\n",
    "        choose_urn = np.random.choice(urns)\n",
    "        #print(choose_urn)\n",
    "        if choose_urn== 'black':\n",
    "            choose_blacksheep = np.random.choice(blacksheep)\n",
    "            #print(choose_blacksheep)\n",
    "            if choose_blacksheep =='w':\n",
    "                success+=1\n",
    "    sims_result.append(success/sims2)\n",
    "plt.hist(sims_result,density=True)\n",
    "plt.title('Mean of {} trials each drawing {} times is: {:.3f}'.format(sims1,sims2, np.mean(sims_mean)))\n",
    "plt.show()"
   ]
  },
  {
   "cell_type": "markdown",
   "metadata": {},
   "source": [
    "## 5.2 Diachronic interpretation\n",
    "\n",
    "Bayes allows the analyst to update the probability of a hypothesis (H) in light of new data (D).\n",
    "\n",
    "This diachronic interpretaiton can be expressed:\n",
    "\n",
    "$$P(H|D) = \\frac{p(H)p(D|H)}{p(D)}$$\n",
    "\n",
    "- In the case of 5.1.1 the problem specified that we choose a bowl at random with equal probability.\n",
    "- However, we can also compute priors based on non-random background information\n"
   ]
  },
  {
   "attachments": {
    "Think_bayes_table1.png": {
     "image/png": "[encoded data removed]"
    }
   },
   "cell_type": "markdown",
   "metadata": {},
   "source": [
    "### 5.2.1 Example: Diachronic interpretation\n",
    "\n",
    "- We have two bags of M&Ms, one from 1994 and one from 1996.\n",
    "- Suppose we draw 1 yellow and 1 green from each seperate bag without knowing which they came from.\n",
    "- #### What is the probability that that the yellow came from the 1994 bag?\n",
    "\n",
    "Two bags:\n",
    "- 1994 bag: Brown: .3, Yellow: .2, Red: .2, Green: .1, Orange: .1, Tan: .1\n",
    "\n",
    "- 1995 bag: Blue: .24, Brown: .3, Yellow: .14, Red: .13, Green: .16, Orange: .14, Tan: .1\n",
    "\n",
    "The answer can be displayed in the chart 5.2.1\n",
    "\n",
    "\n",
    "#### Chart: 5.2.1\n",
    "Via [\"Think Bayes: Bayesian Statistics in Python\", Allen B. Downey](https://www.amazon.com/Think-Bayes-Bayesian-Statistics-Python-ebook-dp-B00F5BS96Q/dp/B00F5BS96Q/ref=mt_kindle?_encoding=UTF8&me=&qid=)\n",
    "\n",
    "\n",
    "![Think_bayes_table1.png](attachment:Think_bayes_table1.png)\n",
    "\n",
    "\n",
    "\n",
    "The second column has the likelihoods.\n",
    "- IF A is true: \n",
    "     - yellow came from 1994 bag with .2 probability\n",
    "     - green came from 1996 bag with .2 probability\n",
    "- IF B is true:\n",
    "     - yellow came from 1996 bag with .14 probability\n",
    "     - green came from 1994 bag with .1 probability\n",
    "        \n",
    "        \n",
    "- The third column is just the product of the previous two. The sum of this column, 270, is the normalizing constant. \n",
    "\n",
    "\n",
    "- The last column is posteriors, where we divide the third column by the normalizing constant\n",
    "\n",
    "#### Thus our final answer is that there is a 20/27 chance our yellow was drawn from 1994 and green was drawn from 1996\n",
    "\n",
    "\n",
    "*Reference: Material thus far in chapter 5: Downey, Allen B. [\"Think Bayes: Bayesian Statistics in Python.\"](https://www.amazon.com/Think-Bayes-Bayesian-Statistics-Python-ebook-dp-B00F5BS96Q/dp/B00F5BS96Q/ref=mt_kindle?_encoding=UTF8&me=&qid=) *Green Tea Press*"
   ]
  },
  {
   "cell_type": "markdown",
   "metadata": {},
   "source": [
    "### 5.2.2 Example: Bayes box-denominator\n",
    "\n",
    "\n",
    "We have a bag with two balls:\n",
    "- We draw 2 red balls with replacement\n",
    "- What is the number of red balls in the bag?\n",
    "\n",
    "Putting the problem in Bayes formula:\n",
    "$Pr(R|2 red)=\\frac{Pr(Red)\\times Pr(2 red|R)}{Pr(2 red)} $\n",
    "\n",
    "|   R | Pr(R) | Pr(2red $\\lvert$ R)| Pr(R)$\\times$Pr(2red $\\lvert$ R)| Pr(r$\\lvert$2red)|\n",
    "| --- |:-----:| ---|  ---| --:|\n",
    "|0    | 1/3   | 0 |  0| 0/(5/12)|\n",
    "|1    | 1/3   | 1/2$\\times$ 1/2  |  1/12| (1/12)/(5/12)=1/5|\n",
    "|2    | 1/3   |  1|  4/12| (4/12)/(5/12)=4/5|\n",
    "|Total   | 1 | 5/4|  Pr(2red)=5/12| 1|\n",
    "\n",
    "Interpretting the 2nd column Pr(2red $\\lvert$ R):\n",
    "\n",
    "- If there are 0 red balls the chance of drawing red is of course zero\n",
    "- If there is 1 red ball the chance of drawing the first red ball, then drawing the replaced red ball.\n",
    "- If there are 2 red balls in the bag then of course we will draw 2\n",
    "\n",
    "- The likelihood of the Pr(2red $\\lvert$ R) column is 5/4, thus it is not a valid probability distribution\n",
    "\n",
    "Changing our prior we can update the Bayes box to attain our posterior estimates seen in our last column : Pr(r$\\lvert$2red)\n",
    "\n",
    "|   R | Pr(R) | Pr(2red $\\lvert$ R)| Pr(R)$\\times$Pr(2red $\\lvert$ R)| Pr(r$\\lvert$2red)|\n",
    "| --- |:-----:| ---|  ---| --:|\n",
    "|0    | 1/4   | 0 |  0| 0|\n",
    "|1    | 1/4   | 1/4 |1/16|1/9|\n",
    "|2    | 1/2   |  1|  8/16| 8/9|\n",
    "|Total   | 1 | 5/4| 9/16| 1|\n",
    "\n",
    "\n",
    "*Reference: Lambert, Ben. [A Student's Guide to Bayesian Statistics](https://www.youtube.com/playlist?list=PLwJRxp3blEvZ8AKMXOy0fc0cqT61GsKCG)*\n"
   ]
  },
  {
   "cell_type": "markdown",
   "metadata": {},
   "source": [
    "### 5.2.3 Explaining intuition behind Bayesian influence\n",
    "\n",
    "$$P(\\theta|x)=\\frac{P(x|\\theta)\\times P(\\theta)}{P(x)}$$\n",
    "- Bayesian rule denominator term does not contain data depedendece\n",
    "- So the shape of the posterior is determined by the likelihood of Bayes rule\n",
    "\n",
    "$$\\propto P(X|\\theta)\\times P(\\theta)$$\n",
    "\n",
    "- The posterier is a weighted average of the likelihood and the prior\n",
    "- In general the \"posterior peak\" is somewhere between the MLE and the peak of the prior\n",
    "- As data(x) $\\uparrow \\Rightarrow P(x|\\theta)\\downarrow$"
   ]
  },
  {
   "cell_type": "markdown",
   "metadata": {},
   "source": [
    "## 5.3 Priors\n",
    "\n",
    "- `Informative prior:` Choses the prior that best represents background information about the problem\n",
    "    - E.g.: The triangle prior\n",
    "\n",
    "- `Uninformative prior:` Choses the prior to let the data speak for itself\n",
    "\n"
   ]
  },
  {
   "cell_type": "markdown",
   "metadata": {},
   "source": [
    "### 5.3.1 Example: Priors\n",
    "\n",
    "- A train company displays numbers on the side of trains $(\\text{In order}: 1\\cdots N)$. \n",
    "- You notice that the one you are traveling on is train number 60.\n",
    "\n",
    "#### Estimate how many trains the company operates.\n",
    "\n",
    "Applying Bayesian reasoning we can look at the problem in two steps:\n",
    "\n",
    "1. What did we know about the number of trains before we saw the number 60\n",
    "    - This is the prior!\n",
    "2. For any given value of N (train #) what is the likelihood of seeing the data, such as the train with the number 60 we saw.\n",
    "    - This is the likelihood!\n",
    "    \n",
    "We can start by considering N to be any value 1 to 1000.\n",
    "\n",
    "\n",
    "*Reference: Downey, Allen B. [\"Think Bayes: Bayesian Statistics in Python.\"](https://www.amazon.com/Think-Bayes-Bayesian-Statistics-Python-ebook-dp-B00F5BS96Q/dp/B00F5BS96Q/ref=mt_kindle?_encoding=UTF8&me=&qid=) *Green Tea Press*"
   ]
  },
  {
   "cell_type": "markdown",
   "metadata": {},
   "source": [
    "### 5.3.2 Improper prior $\\Rightarrow$ Improper posterior\n",
    "\n",
    "Coin toss example:\n",
    "\n",
    "$x= \\begin{cases} \n",
    "0, tails \\\\\n",
    "1, heads\\end{cases}$\n",
    "\n",
    "$Pr(x=k|\\theta)=\\theta^k(1-\\theta)^{1-k}\\eta(1-\\theta)$\n",
    "\n",
    "\n",
    "#### We use Haldane's prior:\n",
    "\n",
    "$P(\\theta)=\\frac{1}{\\theta(1-\\theta)}; 0\\leq\\theta\\leq1$\n",
    "\n",
    "\n",
    "Integrate:\n",
    "$\\int\\frac{1}{\\theta(1-\\theta)}d\\theta=\\int\\frac{1}{\\theta}\\times\\frac{1}{1-\\theta}d\\theta>\\int\\frac{1}{\\theta}=[log\\theta]^1_0=log1-log0=\\infty$\n",
    "\n",
    "- Below we demonstrate that $P(\\theta)=\\frac{1}{\\theta(1-\\theta)}$ is not a valid probability distribution.\n",
    "- But the posterior that follows from using the prior is a valid probability distribution\n",
    "\n",
    "Bayes rule:\n",
    "$P(\\theta|x=k)=\\frac{Pr(x=k|\\theta)\\times P(\\theta)}{\\int Pr(xf=k|\\theta)\\times P(\\theta)d\\theta}$\n",
    "\n",
    "**But we can ignore the denominator because it does not affect the result we obtain.** Thus Bayes rule can be re-written:\n",
    "\n",
    "$\\propto \\theta^k(1-\\theta)^{1-k}\\times \\theta^{-1}\\\\\n",
    "=\\theta^{k-1}(1-\\theta)^-k=\\text{Functional form of posterior estimation}$\n",
    "\n",
    "If we flip our coin and we get tails: x=0 then our posterior estimation:\n",
    "\n",
    "$$\\theta^{-1}\\\\\n",
    "\\int Pr(\\theta|x=0)d\\theta=\\int \\theta^{-1}=[log\\theta]^1_0=\\infty$$\n",
    "\n",
    "*Reference: Lambert, Ben. [A Student's Guide to Bayesian Statistics](https://www.youtube.com/playlist?list=PLwJRxp3blEvZ8AKMXOy0fc0cqT61GsKCG)*\n"
   ]
  },
  {
   "cell_type": "markdown",
   "metadata": {},
   "source": [
    "#### 5.3.2.1 Python Example: Haldane's prior"
   ]
  },
  {
   "cell_type": "code",
   "execution_count": 3,
   "metadata": {
    "scrolled": true
   },
   "outputs": [
    {
     "data": {
      "image/png": "[encoded data removed]",
      "text/plain": [
       "<Figure size 432x288 with 1 Axes>"
      ]
     },
     "metadata": {
      "needs_background": "light"
     },
     "output_type": "display_data"
    }
   ],
   "source": [
    "def haldane(theta):\n",
    "    result = (1)/(theta*(1-theta)) \n",
    "    return result\n",
    "\n",
    "x= np.linspace(.01,.99, 100)\n",
    "for i in x:\n",
    "    y = haldane(x)\n",
    "    plt.plot(x,y, color='red')\n",
    "    plt.title('Haldanes prior')"
   ]
  },
  {
   "cell_type": "markdown",
   "metadata": {},
   "source": [
    "## 5.4 Conjugate prior\n",
    "\n",
    "$$P(\\theta|Data, Model)=\\frac{P(Data|\\theta, Model)\\times P(\\theta|Model)}{P(Data|M)}$$\n",
    "\n",
    "- If we assume likelihood function: $P(Data|\\theta, Model)\\sim$ Normal\n",
    "    - We can choose prior to be normal $P(\\theta|Model)\\sim$\n",
    "    - Then the posterior $P(\\theta|Data, Model)$ will also be normal\n",
    "    - We can also choose our prior to be gamma distribution, which is often used.\n",
    "    \n",
    "    \n",
    "Sometimes our normality assumption is not realistic. But the benefits of a prior such as gamma are:\n",
    "   - We need less calculation\n",
    "   - The distribution generates a posterior exactly"
   ]
  },
  {
   "cell_type": "markdown",
   "metadata": {},
   "source": [
    "## 5.5 Posterior predictive check (PPC)\n",
    "\n",
    "#### PPCs are a way to check the fit of our model to data\n",
    "\n",
    "$$P(\\tilde{x}|x)\\approx \\theta_i\\sim P(\\theta|x)+\\tilde{x} \\sim P(\\tilde{x}|\\theta_i)$$\n",
    "\n",
    "- Iterative process to represent posterior predictive distribution.\n",
    "    - Each steps represents two sources of uncertainty\n",
    "        - Parameter: $\\theta_i\\sim P(\\theta|x)$\n",
    "        - Data generating process: $\\tilde{x} \\sim P(\\tilde{x}|\\theta_i)$\n",
    "- If model does not fit we need to change the model\n",
    "\n",
    "#### Example: $x_i$= The number of cars using a parking lot\n",
    "\n",
    "$x_i \\sim poisson(\\lambda)\\\\\n",
    "\\lambda \\sim gamma(\\text{unknown})\\\\\n",
    "\\lambda (x \\sim gamma) \\Rightarrow \\text{Posterior}$\n",
    "\n",
    "To generate posterior:\n",
    "\n",
    "$\\text{Sample}\\lambda_i \\text{from posterior}\\\\\n",
    "\\text{Sample} \\ x_i \\sim Poisson(\\lambda_i)$\n",
    "\n",
    "- We then compare the max value of simulated data with real.\n",
    "- This allows us to calculate Bayesian Probability\n",
    "    - Pr(T-value(simulated)> T-value(Observed)\n",
    "    - If near 1 or 0 our model is misfit\n",
    "\n"
   ]
  },
  {
   "cell_type": "markdown",
   "metadata": {},
   "source": [
    "## 5.6 Evaluating model fit\n",
    "\n",
    "#### In sample evaluation:\n",
    "   - AIC\n",
    "   - DIC\n",
    "   - WAIC\n",
    "   \n",
    "   \n",
    "- This can lead to:\n",
    "    - Selection bias\n",
    "    - Overfit\n",
    "- So our models have to correct for these biases.\n",
    "\n",
    "\n",
    "|     Model | Fit-----------------------------| Penalty----------------------  |\n",
    "| ------------- |:-------------:| ------:|\n",
    "| AIC    | $log P(x|\\hat\\theta_{MLE})$   | K |\n",
    "|DIC    | $log P(x|\\hat\\theta_{MAP})$     |$2v_j log(px\\lvert\\theta_j)$|\n",
    "|LOO-CV    | $\\sum log (\\frac{1}{S}\\sum P(x_i|x, \\theta_j)$ | No penalty|"
   ]
  },
  {
   "cell_type": "markdown",
   "metadata": {},
   "source": [
    "## 5.7 Two-dimensional probability distributions\n",
    "- A joint distribution contains information about variables as well as the relationship they share\n",
    "- The marginal distributions (See 5.7.3) contain information about the variables independently but they do not capture the dependence between the variables\n",
    "- Join distributions pose challenges because the operations on them take a great deal of time and computing power to run.\n",
    "    - If there are d parameters, the run time is proportion to $n^d$\n",
    "\n",
    "\n",
    "\n",
    "### 5.7.1 Discrete\n",
    "\n",
    "Outcome of two different processes\n",
    "- Each a discrete set\n",
    "    - Example: x = $\\begin{cases}\n",
    "0, \\text{No gym} \\\\\n",
    "1, \\text{Gym}\n",
    "\\end{cases}$\n",
    "    - Example: y = $\\begin{cases}\n",
    "0, \\text{No girlfriend} \\\\\n",
    "1, \\text{Girlfriend}\n",
    "\\end{cases}$\n",
    "$$\\sum^{1}_{x=0}\\sum^{1}_{y=0}=1$$\n",
    "\n",
    "\n",
    "### 5.7.2 Continuous\n",
    "\n",
    "Example: \n",
    "- B= Vol. of beer per week\n",
    "- F= Body fat, grames\n",
    "- We are uncertain about both of the outcomes and for this reason we want to use prob distributions.\n",
    "- P(B,F)$\\geq0$\n",
    "    - No one can drink negative levels of beer or be negatively fat\n",
    "\n",
    "$$\\int^{\\infty}_{-\\infty}\\int^{\\infty}_{-\\infty}P(B,F) dBdF=1$$\n",
    "    \n",
    "- The integral works out the volume under near the volume under a particular surface of the joint distributuion\n",
    "    \n",
    "\n"
   ]
  },
  {
   "cell_type": "markdown",
   "metadata": {},
   "source": [
    "### 5.7.3 Marginal probability distributions\n",
    "\n",
    "- Converting 2d $\\Rightarrow$ 1D distribution\n",
    "    - ND $\\Rightarrow$  (N-1)D distribution\n",
    "    \n",
    "#### 5.7.3.1 Example: Marginal probability distributions\n",
    "\n",
    "What is the prob. that you go to the gym?\n",
    "\n",
    "\n",
    "|     Table | Y: Girlfriend 0        | Y: Girlfriend 1  |\n",
    "| ------------- |:-------------:| ------:|\n",
    "| X:Gym 0     | .1 | .3 |\n",
    "|X:Gym 1     | .4     |  .2|\n",
    "\n",
    "   - $PR(x=1)=PR(x=1 y=0)+PR(x=1,y=1)=0.6$\n",
    "   - $Pr(X=1) = \\sum^{1}_{y=0}Pr(X=x, Y=y)=.6$\n",
    "$$P(x) =Pr(x)=\\begin{cases} \n",
    "    .4, x=0 \\\\\n",
    "    .6, x=1 \\end{cases}$$\n",
    "$$P(y) =Pr(y)=\\begin{cases} \n",
    "    .5, y=0 \\\\\n",
    "    .5, y=1 \\end{cases}$$\n",
    "\n"
   ]
  },
  {
   "cell_type": "markdown",
   "metadata": {},
   "source": [
    "### 5.7.4 Continuous Marginal probability distributions\n",
    "\n",
    "- Marginal distributions for continuous probability distriubtuions can be obtained by integrating joint density with respect to the nuisance variable \n",
    "    - Nusiance variables are the variables we are not interested in.\n",
    "- Alternatively we can sample from the joint distribution if we have enough samples."
   ]
  },
  {
   "cell_type": "markdown",
   "metadata": {},
   "source": [
    "#### 5.7.4.1 Python example: Continuous marginal probability distributions"
   ]
  },
  {
   "cell_type": "code",
   "execution_count": 169,
   "metadata": {},
   "outputs": [
    {
     "data": {
      "image/png": "[encoded data removed]",
      "text/plain": [
       "<Figure size 432x432 with 3 Axes>"
      ]
     },
     "metadata": {
      "needs_background": "light"
     },
     "output_type": "display_data"
    }
   ],
   "source": [
    "import seaborn as sns\n",
    "iris = sns.load_dataset(\"iris\")\n",
    "ax =sns.jointplot(\"sepal_width\", \"petal_length\", data=iris,kind=\"kde\", space=0, color=\"g\")\n",
    "#plt.ylabel(r'$P(PL)=\\int P(PL, Pw)D Pw$')\n",
    "plt.title(r'$P(PW)=\\int P(PL, Pw)D PL$')\n",
    "plt.show()"
   ]
  },
  {
   "cell_type": "markdown",
   "metadata": {},
   "source": [
    "### 5.7.5 Conditional probability distributions\n",
    "\n",
    "#### 5.7.5.1 Discrete\n",
    "\n",
    "- Because we can observe part of the system then we have lower uncertainty\n",
    "    - 2D probability distributuion but only observe one part then it is 1-D.\n",
    "        - ND $\\Rightarrow$ (N-1)D\n",
    "\n",
    "\n",
    "#### 5.7.5.2 Example: Discrete conditional probability distributions\n",
    "Question: If you have a Girlfriend what is the probability you go to the Gym?\n",
    "\n",
    "|     Table | Y:Girlfriend 0        | Y:Girlfriend 1  |\n",
    "| ------------- |:-------------:| ------:|\n",
    "| X:Gym 0     | .1 | .3 |\n",
    "|X:Gym 1     | .4     |  .2|\n",
    "\n",
    "$$Pr(x=1|y=1) = \\frac{Pr(x=1|y=1)}{Pr(y=1)} = \\frac{.2}{Pr(x=1,y=1)+Pr(x=0,y=1)}  \\frac{.2}{.2+.3}$$\n",
    "\n",
    "#### 5.7.5.3 Python example: Continuous conditional probability distributions\n",
    "\n",
    "- What is the probability distribution for petal length if petal width 3.0\n",
    "- $P(PW|PL=3.00)=\\frac{(PL|PW=3.0)}{(PW=3.0)}$\n",
    "    - Where the denominator is the marginal distribution\n",
    "    \n",
    "    \n",
    "*Reference: Lambert, Ben. [A Student's Guide to Bayesian Statistics](https://www.youtube.com/playlist?list=PLwJRxp3blEvZ8AKMXOy0fc0cqT61GsKCG)*\n"
   ]
  },
  {
   "cell_type": "code",
   "execution_count": 170,
   "metadata": {},
   "outputs": [
    {
     "data": {
      "image/png": "[encoded data removed]",
      "text/plain": [
       "<Figure size 432x432 with 3 Axes>"
      ]
     },
     "metadata": {
      "needs_background": "light"
     },
     "output_type": "display_data"
    }
   ],
   "source": [
    "ax =sns.jointplot(\"sepal_width\", \"petal_length\", data=iris, kind=\"kde\", space=0, color=\"g\")"
   ]
  }
 ],
 "metadata": {
  "kernelspec": {
   "display_name": "Python 3",
   "language": "python",
   "name": "python3"
  },
  "language_info": {
   "codemirror_mode": {
    "name": "ipython",
    "version": 3
   },
   "file_extension": ".py",
   "mimetype": "text/x-python",
   "name": "python",
   "nbconvert_exporter": "python",
   "pygments_lexer": "ipython3",
   "version": "3.7.2"
  }
 },
 "nbformat": 4,
 "nbformat_minor": 2
}
